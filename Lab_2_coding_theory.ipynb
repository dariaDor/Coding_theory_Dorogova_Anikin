{
  "cells": [
    {
      "cell_type": "code",
      "execution_count": 539,
      "metadata": {
        "id": "pE-jQJlVrayX"
      },
      "outputs": [],
      "source": [
        "import numpy as np\n",
        "import itertools\n",
        "import random"
      ]
    },
    {
      "cell_type": "code",
      "execution_count": 540,
      "metadata": {
        "id": "llVbSQEBCZBE"
      },
      "outputs": [],
      "source": [
        "class LinearCode:  # класс линейных кодов\n",
        "\n",
        "  def __init__(self, matrix):\n",
        "    self.matrix = matrix\n",
        "    self.lead = []\n",
        "    self.H = []\n",
        "\n",
        "  def ref(self,matrix):\n",
        "    notZero = []\n",
        "    for j in range(matrix.shape[1]):\n",
        "      if 1 in matrix[:, j]:\n",
        "        notZero = np.where(matrix[:, j] == 1)\n",
        "        matrix[[0,notZero[0][0]]] = matrix[[notZero[0][0], 0]]\n",
        "        for k in range(1, notZero[0].size):\n",
        "          matrix[notZero[0][k], :] += matrix[0, :]\n",
        "          matrix[notZero[0][k], :] = matrix[notZero[0][k], :] % 2\n",
        "        break\n",
        "    if matrix.shape[0] == 1:\n",
        "      return\n",
        "    self.ref(matrix[1:, :])\n",
        "    return\n",
        "\n",
        "  def rref(self):\n",
        "    self.ref(self.matrix)\n",
        "    j_lead = 0\n",
        "    for i in range(1, self.matrix.shape[0]):\n",
        "      notZero = np.where(self.matrix[i, :] == 1)\n",
        "      if notZero[0].size ==0 :\n",
        "        return self.matrix\n",
        "      j_lead = notZero[0][0]\n",
        "      for k in range(0,i):\n",
        "        if self.matrix[k,j_lead]:\n",
        "          self.matrix[k,:] += self.matrix[i,:]\n",
        "          self.matrix[k,:] = self.matrix[k,:]%2\n",
        "    return self.matrix\n",
        "\n",
        "  def delete_null_rows(self):  # удаляем нулевые строки\n",
        "    for i in range(0,self.matrix.shape[0]):\n",
        "      if 1 not in self.matrix[i,:]:\n",
        "        self.matrix = np.delete(self.matrix,i,axis=0)\n",
        "    return self.matrix\n",
        "\n",
        "  def count_k_n(self):  # задаем  n - число столбцов, k - число строк\n",
        "    return(self.matrix.shape[1],self.matrix.shape[0])\n",
        "\n",
        "  def search_lead(self):  # фиксируем ведубщие столбцы\n",
        "    lead = []\n",
        "    for i in range(0, self.matrix.shape[0]):\n",
        "      notZero = np.where(self.matrix[i, :] == 1)\n",
        "      if notZero[0].size ==0 :\n",
        "        self.lead = lead\n",
        "        return lead\n",
        "      else:\n",
        "        lead.append(notZero[0][0])\n",
        "    self.lead = lead\n",
        "    return lead\n",
        "\n",
        "  def delete_lead_colums(self):  # удаляем ведющие столбцы матрицы\n",
        "    lead_colums = self.lead\n",
        "    for i in range(0,len(lead_colums)):\n",
        "      self.matrix = np.delete(self.matrix,lead_colums[i]-i,axis = 1)\n",
        "    return self.matrix\n",
        "\n",
        "\n",
        "  def checking_matrix(self):  # создаем проверочную матрицу H\n",
        "    check_matrix = []\n",
        "    temp = np.eye(self.matrix.shape[1],dtype = int)\n",
        "    k = 0\n",
        "    m = 0\n",
        "    for i in range(0, self.matrix.shape[0] + self.matrix.shape[1]):\n",
        "      if i in self.lead:\n",
        "        check_matrix.append(self.matrix[k])\n",
        "        k += 1\n",
        "      else:\n",
        "        check_matrix.append(temp[m])\n",
        "        m +=1\n",
        "    check_matrix = np.array(check_matrix)\n",
        "    self.H = check_matrix\n",
        "    return check_matrix\n",
        "\n",
        "\n",
        "  def generate_code_words_1(self):  # формируем кодовые слова, складывая все слова из порождающего множества\n",
        "    zer = np.zeros(self.matrix.shape[1], dtype=int)\n",
        "    final_word = set()\n",
        "    final_word.add(tuple(zer.tolist()))\n",
        "    for i in range(1, self.matrix.shape[0] + 1):\n",
        "      comd_word = list(itertools.combinations(range(self.matrix.shape[0]), i))\n",
        "      for comb in comd_word:\n",
        "        word = np.zeros(self.matrix.shape[1], dtype=int)\n",
        "        for j in comb:\n",
        "          word += self.matrix[j, :]\n",
        "        word %= 2\n",
        "        final_word.add(tuple(word.tolist()))\n",
        "    return np.array(list(final_word))\n",
        "\n",
        "  def generate_code_words_2(self):  # формируем кодовые слова, беря все кодовые слова длины k и умножая на матрицу\n",
        "    n,k = self.count_k_n()\n",
        "    final_code = itertools.product(range(2), repeat=k)\n",
        "    answer = []\n",
        "    for code in (final_code):\n",
        "      one_word = np.dot(code,self.matrix)%2\n",
        "      answer.append(one_word)\n",
        "    return answer\n",
        "\n",
        "\n",
        "\n"
      ]
    },
    {
      "cell_type": "markdown",
      "source": [
        "Функция для 2ЛР"
      ],
      "metadata": {
        "id": "eOJ6DAlMmZPF"
      }
    },
    {
      "cell_type": "code",
      "source": [
        "def code_syndrom_error(u_f,n_f,k_f,H_f,G_f, count_error_f):\n",
        "\n",
        "  #Сформировать кодовое слово длины n из слова длины k\n",
        "  v_f = np.dot(u_f,G_f)%2\n",
        "  print (\"u: \", u_f)\n",
        "  print(\"v: \", v_f)\n",
        "\n",
        "  #Внести ошибку в сформированное слово\n",
        "  i_f = np.random.choice(n_f, size=count_error_f, replace=False)\n",
        "  #random.randint(0, n_f, count_error_f)\n",
        "  print(i_f)\n",
        "  for index in (i_f):\n",
        "      v_f[index] = (v_f[index]+1)%2\n",
        "  error_v_f = v_f\n",
        "  print(\"Полученное кодовое слово с ошибкой: \", error_v_f)\n",
        "\n",
        "\n",
        "  #Вычислить синдром\n",
        "  syndrom_error_f = np.dot(error_v_f,H_f)%2\n",
        "  print(\"Синдромы для этого кодового слова: \", syndrom_error_f)\n",
        "\n",
        "  #Исправить ошибку с использованием таблицы синдромов\n",
        "\n",
        "  error_index_f = np.where((H_f == syndrom_error_f).all(axis=1))[0]\n",
        "  print(\"Индекс элемента, где была ошибка:\",error_index_f)\n",
        "  error_v_f[error_index_f] = (error_v_f[error_index_f]+1)%2\n",
        "  true_v_f = error_v_f\n",
        "  print (\"Восстановленное правильное слово: \", true_v_f)\n",
        "\n",
        "  #Убедиться в правильности полученного слова.\n",
        "  final_u_f = true_v_f[:k_f]\n",
        "  print(\"Исправленное декодированное сообщение: \", final_u_f)\n",
        "\n"
      ],
      "metadata": {
        "id": "y-VZea3tfMgC"
      },
      "execution_count": 541,
      "outputs": []
    },
    {
      "cell_type": "markdown",
      "source": [
        "# **Часть 1**\n",
        "2.1. Сформировать порождающую матрицу линейного кода (7, 4, 3)."
      ],
      "metadata": {
        "id": "npHGiF0jV1nP"
      }
    },
    {
      "cell_type": "code",
      "source": [
        "n = 7\n",
        "k = 4\n",
        "d = 3\n",
        "I_k  = np.eye(k)\n",
        "\n",
        "X = np.array([[1,1,1],\n",
        "              [1,1,0],\n",
        "              [1,0,1],\n",
        "              [0,1,1]])\n",
        "\n",
        "G = np.concatenate((I_k, X), axis=1)\n",
        "\n",
        "print(G)"
      ],
      "metadata": {
        "colab": {
          "base_uri": "https://localhost:8080/"
        },
        "id": "PPhGjjtjV3fM",
        "outputId": "9b806a7e-dbb5-4691-8e7b-7afecdefa0c7"
      },
      "execution_count": 542,
      "outputs": [
        {
          "output_type": "stream",
          "name": "stdout",
          "text": [
            "[[1. 0. 0. 0. 1. 1. 1.]\n",
            " [0. 1. 0. 0. 1. 1. 0.]\n",
            " [0. 0. 1. 0. 1. 0. 1.]\n",
            " [0. 0. 0. 1. 0. 1. 1.]]\n"
          ]
        }
      ]
    },
    {
      "cell_type": "markdown",
      "source": [
        "2.2 Сформировать проверочную матрицу на основе порождающей."
      ],
      "metadata": {
        "id": "sM5OCFUJZlnG"
      }
    },
    {
      "cell_type": "code",
      "source": [
        "I_n_k = np.eye(n-k)\n",
        "\n",
        "\n",
        "H = np.concatenate((X, I_n_k), axis=0)\n",
        "\n",
        "print(H)"
      ],
      "metadata": {
        "colab": {
          "base_uri": "https://localhost:8080/"
        },
        "id": "f_0ZDjHnZnmW",
        "outputId": "74bf17ae-ca10-41ca-c362-16fd147450fa"
      },
      "execution_count": 543,
      "outputs": [
        {
          "output_type": "stream",
          "name": "stdout",
          "text": [
            "[[1. 1. 1.]\n",
            " [1. 1. 0.]\n",
            " [1. 0. 1.]\n",
            " [0. 1. 1.]\n",
            " [1. 0. 0.]\n",
            " [0. 1. 0.]\n",
            " [0. 0. 1.]]\n"
          ]
        }
      ]
    },
    {
      "cell_type": "markdown",
      "source": [
        "2.3 Сформировать таблицу синдромов для всех однократных\n",
        "ошибок."
      ],
      "metadata": {
        "id": "P05RIYikalwp"
      }
    },
    {
      "cell_type": "code",
      "source": [
        "errors = np.eye(7)\n",
        "syndroms = dict()\n",
        "for i in range(6, -1, -1):\n",
        "    syndroms[tuple(np.matmul(errors[i, :], H)%2)] = errors[i, :]\n",
        "print(syndroms)"
      ],
      "metadata": {
        "colab": {
          "base_uri": "https://localhost:8080/"
        },
        "id": "uKNZxIt7amUg",
        "outputId": "af98a40d-ea1b-4170-97c4-867471d92c00"
      },
      "execution_count": 544,
      "outputs": [
        {
          "output_type": "stream",
          "name": "stdout",
          "text": [
            "{(0.0, 0.0, 1.0): array([0., 0., 0., 0., 0., 0., 1.]), (0.0, 1.0, 0.0): array([0., 0., 0., 0., 0., 1., 0.]), (1.0, 0.0, 0.0): array([0., 0., 0., 0., 1., 0., 0.]), (0.0, 1.0, 1.0): array([0., 0., 0., 1., 0., 0., 0.]), (1.0, 0.0, 1.0): array([0., 0., 1., 0., 0., 0., 0.]), (1.0, 1.0, 0.0): array([0., 1., 0., 0., 0., 0., 0.]), (1.0, 1.0, 1.0): array([1., 0., 0., 0., 0., 0., 0.])}\n"
          ]
        }
      ]
    },
    {
      "cell_type": "markdown",
      "source": [
        "2.4. Сформировать кодовое слово длины n из слова длины k. Внести\n",
        "однократную ошибку в сформированное слово. Вычислить синдром,\n",
        "исправить ошибку с использованием таблицы синдромов. Убедиться\n",
        "в правильности полученного слова.\n"
      ],
      "metadata": {
        "id": "PPelJ5ZDOpq_"
      }
    },
    {
      "cell_type": "code",
      "source": [
        "#Воспользуемся функцией\n",
        "u_1 = np.array([1, 0, 0, 1])\n",
        "code_syndrom_error(u_1,n,k,H,G,1)\n"
      ],
      "metadata": {
        "id": "2FuAR1bSOuzt",
        "colab": {
          "base_uri": "https://localhost:8080/"
        },
        "outputId": "bbe4a005-681e-469d-db53-694a797d9e29"
      },
      "execution_count": 545,
      "outputs": [
        {
          "output_type": "stream",
          "name": "stdout",
          "text": [
            "u:  [1 0 0 1]\n",
            "v:  [1. 0. 0. 1. 1. 0. 0.]\n",
            "[2]\n",
            "Полученное кодовое слово с ошибкой:  [1. 0. 1. 1. 1. 0. 0.]\n",
            "Синдромы для этого кодового слова:  [1. 0. 1.]\n",
            "Индекс элемента, где была ошибка: [2]\n",
            "Восстановленное правильное слово:  [1. 0. 0. 1. 1. 0. 0.]\n",
            "Исправленное декодированное сообщение:  [1. 0. 0. 1.]\n"
          ]
        }
      ]
    },
    {
      "cell_type": "markdown",
      "source": [
        "2.5. Сформировать кодовое слово длины n из слова длины k. Внести\n",
        "двукратную ошибку в сформированное слово. Вычислить синдром,\n",
        "исправить ошибку с использованием таблицы синдромов.\n",
        "Убедиться, что полученное слово отличается от отправленного"
      ],
      "metadata": {
        "id": "01w3e_4yevJ9"
      }
    },
    {
      "cell_type": "code",
      "source": [
        "#Воспользуемся функцией\n",
        "u_2 = np.array([1, 0, 0, 1])\n",
        "code_syndrom_error(u_2,n,k,H,G,2)"
      ],
      "metadata": {
        "colab": {
          "base_uri": "https://localhost:8080/"
        },
        "id": "3iA2Mshfezwh",
        "outputId": "b8fb488e-ac37-4ed4-895a-2dc09453358e"
      },
      "execution_count": 546,
      "outputs": [
        {
          "output_type": "stream",
          "name": "stdout",
          "text": [
            "u:  [1 0 0 1]\n",
            "v:  [1. 0. 0. 1. 1. 0. 0.]\n",
            "[6 1]\n",
            "Полученное кодовое слово с ошибкой:  [1. 1. 0. 1. 1. 0. 1.]\n",
            "Синдромы для этого кодового слова:  [1. 1. 1.]\n",
            "Индекс элемента, где была ошибка: [0]\n",
            "Восстановленное правильное слово:  [0. 1. 0. 1. 1. 0. 1.]\n",
            "Исправленное декодированное сообщение:  [0. 1. 0. 1.]\n"
          ]
        }
      ]
    },
    {
      "cell_type": "markdown",
      "source": [
        "# Часть 2\n",
        "\n",
        "2.6. Сформировать порождающую матрицу линейного кода (n, k, 5)."
      ],
      "metadata": {
        "id": "kSeiFRG-m8NE"
      }
    },
    {
      "cell_type": "code",
      "source": [
        "n_2 = 12\n",
        "k_2 = 4\n",
        "d_2 = 5\n",
        "I_k_2  = np.eye(k_2)\n",
        "\n",
        "X_2 = np.array([[1, 1, 1, 1, 0, 0, 0, 0],\n",
        "                [0, 0, 0, 0, 1, 1, 1, 1],\n",
        "                [0, 0, 1, 1, 0, 0, 1, 1],\n",
        "                [1, 0, 1, 0, 1, 0, 1, 0]])\n",
        "\n",
        "\n",
        "G_2 = np.concatenate((I_k_2, X_2), axis=1)\n",
        "\n",
        "print(G_2)"
      ],
      "metadata": {
        "id": "75Z6Gh8snCR6",
        "colab": {
          "base_uri": "https://localhost:8080/"
        },
        "outputId": "1ab69f7a-3269-4078-b070-2658edea8fb7"
      },
      "execution_count": 547,
      "outputs": [
        {
          "output_type": "stream",
          "name": "stdout",
          "text": [
            "[[1. 0. 0. 0. 1. 1. 1. 1. 0. 0. 0. 0.]\n",
            " [0. 1. 0. 0. 0. 0. 0. 0. 1. 1. 1. 1.]\n",
            " [0. 0. 1. 0. 0. 0. 1. 1. 0. 0. 1. 1.]\n",
            " [0. 0. 0. 1. 1. 0. 1. 0. 1. 0. 1. 0.]]\n"
          ]
        }
      ]
    },
    {
      "cell_type": "markdown",
      "source": [
        "2.7 Сформировать проверочную матрицу на основе порождающей."
      ],
      "metadata": {
        "id": "1q1PqwwVueNn"
      }
    },
    {
      "cell_type": "code",
      "source": [
        "I_n_k_2 = np.eye(n_2-k_2)\n",
        "\n",
        "\n",
        "H_2 = np.concatenate((X_2, I_n_k_2), axis=0)\n",
        "\n",
        "print(H_2)"
      ],
      "metadata": {
        "colab": {
          "base_uri": "https://localhost:8080/"
        },
        "id": "F1djhCEeuhaM",
        "outputId": "6ef3ccc9-c771-4ec2-86fe-19869c98bf1d"
      },
      "execution_count": 548,
      "outputs": [
        {
          "output_type": "stream",
          "name": "stdout",
          "text": [
            "[[1. 1. 1. 1. 0. 0. 0. 0.]\n",
            " [0. 0. 0. 0. 1. 1. 1. 1.]\n",
            " [0. 0. 1. 1. 0. 0. 1. 1.]\n",
            " [1. 0. 1. 0. 1. 0. 1. 0.]\n",
            " [1. 0. 0. 0. 0. 0. 0. 0.]\n",
            " [0. 1. 0. 0. 0. 0. 0. 0.]\n",
            " [0. 0. 1. 0. 0. 0. 0. 0.]\n",
            " [0. 0. 0. 1. 0. 0. 0. 0.]\n",
            " [0. 0. 0. 0. 1. 0. 0. 0.]\n",
            " [0. 0. 0. 0. 0. 1. 0. 0.]\n",
            " [0. 0. 0. 0. 0. 0. 1. 0.]\n",
            " [0. 0. 0. 0. 0. 0. 0. 1.]]\n"
          ]
        }
      ]
    },
    {
      "cell_type": "markdown",
      "source": [
        "2.8 Сформировать таблицу синдромов для всех однократных и\n",
        "двукратных ошибок"
      ],
      "metadata": {
        "id": "rOEpYPyWvLbh"
      }
    },
    {
      "cell_type": "code",
      "source": [
        "errors_1 = np.eye(n_2)\n",
        "syndroms_1 = dict()\n",
        "for i in range(n_2-1, -1, -1):\n",
        "    syndroms_1[tuple(np.matmul(errors_1[i, :], H_2)%2)] = errors_1[i, :]\n",
        "print(syndroms_1)\n",
        "\n",
        "error_2 = np.eye(n_2)\n",
        "for i in range (n_2):\n",
        "  num = np.random.randint(1, n_2, 1)\n",
        "  if(num != i):\n",
        "    error_2[i][num] = (error_2[i][num]+1)%2\n",
        "  else:\n",
        "    error_2[i][num-1] = (error_2[i][num-1]+1)%2\n",
        "\n",
        "\n",
        "syndroms_2 = dict()\n",
        "for i in range(n_2-1,-1,-1):\n",
        "  syndroms_2[tuple(np.matmul(error_2[i, :], H_2)%2)] = error_2[i, :]\n",
        "print(syndroms_2)"
      ],
      "metadata": {
        "colab": {
          "base_uri": "https://localhost:8080/"
        },
        "id": "Z8p3bW9CvOw3",
        "outputId": "0b82fa1d-f404-471b-c2df-c434d8e9ef22"
      },
      "execution_count": 549,
      "outputs": [
        {
          "output_type": "stream",
          "name": "stdout",
          "text": [
            "{(0.0, 0.0, 0.0, 0.0, 0.0, 0.0, 0.0, 1.0): array([0., 0., 0., 0., 0., 0., 0., 0., 0., 0., 0., 1.]), (0.0, 0.0, 0.0, 0.0, 0.0, 0.0, 1.0, 0.0): array([0., 0., 0., 0., 0., 0., 0., 0., 0., 0., 1., 0.]), (0.0, 0.0, 0.0, 0.0, 0.0, 1.0, 0.0, 0.0): array([0., 0., 0., 0., 0., 0., 0., 0., 0., 1., 0., 0.]), (0.0, 0.0, 0.0, 0.0, 1.0, 0.0, 0.0, 0.0): array([0., 0., 0., 0., 0., 0., 0., 0., 1., 0., 0., 0.]), (0.0, 0.0, 0.0, 1.0, 0.0, 0.0, 0.0, 0.0): array([0., 0., 0., 0., 0., 0., 0., 1., 0., 0., 0., 0.]), (0.0, 0.0, 1.0, 0.0, 0.0, 0.0, 0.0, 0.0): array([0., 0., 0., 0., 0., 0., 1., 0., 0., 0., 0., 0.]), (0.0, 1.0, 0.0, 0.0, 0.0, 0.0, 0.0, 0.0): array([0., 0., 0., 0., 0., 1., 0., 0., 0., 0., 0., 0.]), (1.0, 0.0, 0.0, 0.0, 0.0, 0.0, 0.0, 0.0): array([0., 0., 0., 0., 1., 0., 0., 0., 0., 0., 0., 0.]), (1.0, 0.0, 1.0, 0.0, 1.0, 0.0, 1.0, 0.0): array([0., 0., 0., 1., 0., 0., 0., 0., 0., 0., 0., 0.]), (0.0, 0.0, 1.0, 1.0, 0.0, 0.0, 1.0, 1.0): array([0., 0., 1., 0., 0., 0., 0., 0., 0., 0., 0., 0.]), (0.0, 0.0, 0.0, 0.0, 1.0, 1.0, 1.0, 1.0): array([0., 1., 0., 0., 0., 0., 0., 0., 0., 0., 0., 0.]), (1.0, 1.0, 1.0, 1.0, 0.0, 0.0, 0.0, 0.0): array([1., 0., 0., 0., 0., 0., 0., 0., 0., 0., 0., 0.])}\n",
            "{(0.0, 0.0, 0.0, 0.0, 1.0, 0.0, 0.0, 1.0): array([0., 0., 0., 0., 0., 0., 0., 0., 1., 0., 0., 1.]), (0.0, 0.0, 0.0, 0.0, 1.0, 0.0, 1.0, 0.0): array([0., 0., 0., 0., 0., 0., 0., 0., 1., 0., 1., 0.]), (0.0, 0.0, 1.0, 1.0, 0.0, 1.0, 1.0, 1.0): array([0., 0., 1., 0., 0., 0., 0., 0., 0., 1., 0., 0.]), (0.0, 0.0, 1.0, 0.0, 1.0, 0.0, 0.0, 0.0): array([0., 0., 0., 0., 0., 0., 1., 0., 1., 0., 0., 0.]), (0.0, 0.0, 1.0, 1.0, 0.0, 0.0, 0.0, 0.0): array([0., 0., 0., 0., 0., 0., 1., 1., 0., 0., 0., 0.]), (0.0, 0.0, 1.0, 0.0, 1.0, 1.0, 1.0, 1.0): array([0., 1., 0., 0., 0., 0., 1., 0., 0., 0., 0., 0.]), (1.0, 1.0, 1.0, 0.0, 1.0, 0.0, 1.0, 0.0): array([0., 0., 0., 1., 0., 1., 0., 0., 0., 0., 0., 0.]), (0.0, 0.0, 1.0, 0.0, 1.0, 0.0, 1.0, 0.0): array([0., 0., 0., 1., 1., 0., 0., 0., 0., 0., 0., 0.]), (1.0, 0.0, 0.0, 1.0, 1.0, 0.0, 0.0, 1.0): array([0., 0., 1., 1., 0., 0., 0., 0., 0., 0., 0., 0.]), (1.0, 0.0, 1.0, 1.0, 0.0, 0.0, 1.0, 1.0): array([0., 0., 1., 0., 1., 0., 0., 0., 0., 0., 0., 0.]), (0.0, 0.0, 0.0, 0.0, 1.0, 1.0, 0.0, 1.0): array([0., 1., 0., 0., 0., 0., 0., 0., 0., 0., 1., 0.]), (1.0, 1.0, 0.0, 0.0, 0.0, 0.0, 1.0, 1.0): array([1., 0., 1., 0., 0., 0., 0., 0., 0., 0., 0., 0.])}\n"
          ]
        }
      ]
    },
    {
      "cell_type": "markdown",
      "source": [
        "2.9. Сформировать кодовое слово длины n из слова длины k. Внести\n",
        "однократную ошибку в сформированное слово. Вычислить синдром,\n",
        "исправить ошибку с использованием таблицы синдромов. Убедиться\n",
        "в правильности полученного слова."
      ],
      "metadata": {
        "id": "mj9nnW08yzeU"
      }
    },
    {
      "cell_type": "code",
      "source": [
        "#Воспользуемся функцией\n",
        "u_3 = np.array([1, 0 , 0 , 1])\n",
        "code_syndrom_error(u_3,n_2,k_2,H_2,G_2,1)"
      ],
      "metadata": {
        "colab": {
          "base_uri": "https://localhost:8080/"
        },
        "id": "u2Doxr8Ry0WL",
        "outputId": "2bf1e47a-0985-4b26-a0ce-c4032296cad7"
      },
      "execution_count": 550,
      "outputs": [
        {
          "output_type": "stream",
          "name": "stdout",
          "text": [
            "u:  [1 0 0 1]\n",
            "v:  [1. 0. 0. 1. 0. 1. 0. 1. 1. 0. 1. 0.]\n",
            "[7]\n",
            "Полученное кодовое слово с ошибкой:  [1. 0. 0. 1. 0. 1. 0. 0. 1. 0. 1. 0.]\n",
            "Синдромы для этого кодового слова:  [0. 0. 0. 1. 0. 0. 0. 0.]\n",
            "Индекс элемента, где была ошибка: [7]\n",
            "Восстановленное правильное слово:  [1. 0. 0. 1. 0. 1. 0. 1. 1. 0. 1. 0.]\n",
            "Исправленное декодированное сообщение:  [1. 0. 0. 1.]\n"
          ]
        }
      ]
    },
    {
      "cell_type": "markdown",
      "source": [
        "2.10. Сформировать кодовое слово длины n из слова длины k. Внести\n",
        "двукратную ошибку в сформированное слово. Вычислить синдром,\n",
        "исправить ошибку с использованием таблицы синдромов. Убедиться\n",
        "в правильности полученного слова."
      ],
      "metadata": {
        "id": "bDc-OojXzH5f"
      }
    },
    {
      "cell_type": "code",
      "source": [
        "#Воспользуемся функцией\n",
        "u_4 = np.array([1, 0, 1, 0])\n",
        "code_syndrom_error(u_4,n_2,k_2,H_2,G_2,2)"
      ],
      "metadata": {
        "colab": {
          "base_uri": "https://localhost:8080/"
        },
        "id": "W8nIETuVzhm-",
        "outputId": "e4a45116-bc79-472e-fd85-80087c508096"
      },
      "execution_count": 551,
      "outputs": [
        {
          "output_type": "stream",
          "name": "stdout",
          "text": [
            "u:  [1 0 1 0]\n",
            "v:  [1. 0. 1. 0. 1. 1. 0. 0. 0. 0. 1. 1.]\n",
            "[7 3]\n",
            "Полученное кодовое слово с ошибкой:  [1. 0. 1. 1. 1. 1. 0. 1. 0. 0. 1. 1.]\n",
            "Синдромы для этого кодового слова:  [1. 0. 1. 1. 1. 0. 1. 0.]\n",
            "Индекс элемента, где была ошибка: []\n",
            "Восстановленное правильное слово:  [1. 0. 1. 1. 1. 1. 0. 1. 0. 0. 1. 1.]\n",
            "Исправленное декодированное сообщение:  [1. 0. 1. 1.]\n"
          ]
        }
      ]
    },
    {
      "cell_type": "markdown",
      "source": [
        "2.1. Сформировать кодовое слово длины n из слова длины k. Внести\n",
        "трёхкратную ошибку в сформированное слово. Вычислить синдром,\n",
        "исправить ошибку с использованием таблицы синдромов.\n",
        "Убедиться, что полученное слово отличается от отправленного"
      ],
      "metadata": {
        "id": "gZH4sEJz6crS"
      }
    },
    {
      "cell_type": "code",
      "source": [
        "#Воспользуемся функцией\n",
        "u_5 = np.array([1, 0, 1, 0])\n",
        "code_syndrom_error(u_5,n_2,k_2,H_2,G_2,3)"
      ],
      "metadata": {
        "colab": {
          "base_uri": "https://localhost:8080/"
        },
        "id": "-I91kusl6evT",
        "outputId": "c7622384-e754-4622-86e2-208854e04931"
      },
      "execution_count": 552,
      "outputs": [
        {
          "output_type": "stream",
          "name": "stdout",
          "text": [
            "u:  [1 0 1 0]\n",
            "v:  [1. 0. 1. 0. 1. 1. 0. 0. 0. 0. 1. 1.]\n",
            "[11  7  4]\n",
            "Полученное кодовое слово с ошибкой:  [1. 0. 1. 0. 0. 1. 0. 1. 0. 0. 1. 0.]\n",
            "Синдромы для этого кодового слова:  [1. 0. 0. 1. 0. 0. 0. 1.]\n",
            "Индекс элемента, где была ошибка: []\n",
            "Восстановленное правильное слово:  [1. 0. 1. 0. 0. 1. 0. 1. 0. 0. 1. 0.]\n",
            "Исправленное декодированное сообщение:  [1. 0. 1. 0.]\n"
          ]
        }
      ]
    }
  ],
  "metadata": {
    "colab": {
      "provenance": []
    },
    "kernelspec": {
      "display_name": "Python 3",
      "name": "python3"
    },
    "language_info": {
      "name": "python"
    }
  },
  "nbformat": 4,
  "nbformat_minor": 0
}