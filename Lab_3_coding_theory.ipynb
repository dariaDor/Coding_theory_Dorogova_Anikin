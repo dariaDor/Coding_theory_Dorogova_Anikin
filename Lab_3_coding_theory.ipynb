{
  "cells": [
    {
      "cell_type": "code",
      "execution_count": null,
      "metadata": {
        "id": "pE-jQJlVrayX"
      },
      "outputs": [],
      "source": [
        "import numpy as np\n",
        "import itertools\n",
        "import random\n",
        "import itertools as it"
      ]
    },
    {
      "cell_type": "markdown",
      "source": [
        "Функция для обнаружения и исправления ошибки"
      ],
      "metadata": {
        "id": "eOJ6DAlMmZPF"
      }
    },
    {
      "cell_type": "code",
      "source": [
        "def code_syndrom_error(u_f,n_f,k_f,H_f,G_f, table_syndroms, count_error_f):\n",
        "\n",
        "  #Сформировать кодовое слово длины n из слова длины k\n",
        "  v_f = np.dot(u_f,G_f)%2\n",
        "  print (\"u: \", u_f)\n",
        "  print(\"v: \", v_f)\n",
        "\n",
        "  #Внести ошибку в сформированное слово\n",
        "  i_f = np.random.choice(n_f, size=count_error_f, replace=False)\n",
        "  print(\"Ошибки: \", i_f)\n",
        "  for index in (i_f):\n",
        "      v_f[index] = (v_f[index]+1)%2\n",
        "  error_v_f = v_f\n",
        "  print(\"Полученное кодовое слово с ошибкой: \", error_v_f)\n",
        "\n",
        "\n",
        "  #Вычислить синдром\n",
        "  syndrom_error_f = np.dot(error_v_f,H_f)%2\n",
        "  print(\"Синдромы для этого кодового слова: \", syndrom_error_f)\n",
        "  if sum( syndrom_error_f) != 0:\n",
        "    print(\"Обнаружена ошибка!\")\n",
        "\n",
        "  error_correction = table_syndroms.get(tuple(syndrom_error_f), None)\n",
        "  print(error_correction)\n",
        "\n",
        "\n",
        "  if tuple(syndrom_error_f) in table_syndroms:\n",
        "    error_index_f = table_syndroms[tuple(syndrom_error_f)]\n",
        "    for i in range(len(error_index_f)):\n",
        "      if error_index_f[i]:\n",
        "        error_v_f[i] = (error_v_f[i]+1)%2\n",
        "        true_v_f = error_v_f\n",
        "    print (\"Восстановленное слово: \", true_v_f)\n",
        "    if all(true_v_f == v_f):\n",
        "      print(\"Ошибка была исправлена успешно!\")\n",
        "    else:\n",
        "      print(\"Ошибка не была исправлена корректно.\")\n",
        "  else:\n",
        "      print(\"Синдрома нет в таблице, ошибка не исправлена.\")\n",
        "\n"
      ],
      "metadata": {
        "id": "y-VZea3tfMgC"
      },
      "execution_count": null,
      "outputs": []
    },
    {
      "cell_type": "markdown",
      "source": [
        "3.1 Написать функцию формирования порождающей и проверочной\n",
        "матриц кода Хэмминга (𝟐\n",
        "𝒓 − 𝟏, 𝟐\n",
        "𝒓 − 𝒓 − 𝟏, 𝟑) на основе параметра 𝒓,\n",
        "а также таблицы синдромов для всех однократных ошибок."
      ],
      "metadata": {
        "id": "iz2wQv-lU4sm"
      }
    },
    {
      "cell_type": "code",
      "source": [
        "def code_h(r):\n",
        "    id_for_H = np.eye(r)\n",
        "    X = np.array([np.ones(r)])\n",
        "    for i in range(r-1, 1, -1):\n",
        "        combs = list(it.combinations(range(0, r, 1), i))\n",
        "        for c in combs:\n",
        "            word = np.zeros(r)\n",
        "            for j in c:\n",
        "                word[j] = 1\n",
        "            X = np.vstack([X, word])\n",
        "    H = np.vstack([X, id_for_H])\n",
        "    id_for_G = np.eye(X.shape[0])\n",
        "    G = np.hstack([id_for_G, X])\n",
        "    syndroms = dict()\n",
        "    ed = np.eye(H.shape[0])\n",
        "    for i in range(ed.shape[0]-1, -1, -1):\n",
        "        syndroms[tuple(ed[i, :]@H)] = ed[i, :]\n",
        "    return G, H, syndroms"
      ],
      "metadata": {
        "id": "6MdBTvsEU8Oh"
      },
      "execution_count": null,
      "outputs": []
    },
    {
      "cell_type": "markdown",
      "source": [
        "3.2. Провести исследование кода Хэмминга для одно-, двух- и\n",
        "трёхкратных ошибок для 𝒓 = 𝟐, 𝟑, 𝟒"
      ],
      "metadata": {
        "id": "wRbYhu1_W0N2"
      }
    },
    {
      "cell_type": "markdown",
      "source": [
        "r = 2"
      ],
      "metadata": {
        "id": "iRUyeIGseRdw"
      }
    },
    {
      "cell_type": "code",
      "source": [
        "G, H, syndroms = code_h(2)\n",
        "print(G,'\\n')\n",
        "print(H,'\\n')\n",
        "print(syndroms,'\\n')"
      ],
      "metadata": {
        "colab": {
          "base_uri": "https://localhost:8080/"
        },
        "id": "TPvqhNiReaQS",
        "outputId": "f884434a-fa97-40f8-ff34-fff7f9663d6c"
      },
      "execution_count": null,
      "outputs": [
        {
          "output_type": "stream",
          "name": "stdout",
          "text": [
            "[[1. 1. 1.]] \n",
            "\n",
            "[[1. 1.]\n",
            " [1. 0.]\n",
            " [0. 1.]] \n",
            "\n",
            "{(0.0, 1.0): array([0., 0., 1.]), (1.0, 0.0): array([0., 1., 0.]), (1.0, 1.0): array([1., 0., 0.])} \n",
            "\n"
          ]
        }
      ]
    },
    {
      "cell_type": "markdown",
      "source": [
        "Однократная"
      ],
      "metadata": {
        "id": "5ZzuthhYAGCe"
      }
    },
    {
      "cell_type": "code",
      "source": [
        "word = [1]\n",
        "code_syndrom_error(word, 3, 1, H, G, syndroms, 1)"
      ],
      "metadata": {
        "colab": {
          "base_uri": "https://localhost:8080/"
        },
        "id": "uhcEJBNYWi89",
        "outputId": "b2cf0c83-e6bc-41bb-d6c5-0afa289db6e8"
      },
      "execution_count": null,
      "outputs": [
        {
          "output_type": "stream",
          "name": "stdout",
          "text": [
            "u:  [1]\n",
            "v:  [1. 1. 1.]\n",
            "Ошибки:  [0]\n",
            "Полученное кодовое слово с ошибкой:  [0. 1. 1.]\n",
            "Синдромы для этого кодового слова:  [1. 1.]\n",
            "Обнаружена ошибка!\n",
            "[1. 0. 0.]\n",
            "Восстановленное слово:  [1. 1. 1.]\n",
            "Ошибка была исправлена успешно!\n"
          ]
        }
      ]
    },
    {
      "cell_type": "markdown",
      "source": [
        "Двукратная"
      ],
      "metadata": {
        "id": "yuTKRAjFAIYE"
      }
    },
    {
      "cell_type": "code",
      "source": [
        "word = [1]\n",
        "code_syndrom_error(word, 3, 1, H, G, syndroms, 2)"
      ],
      "metadata": {
        "colab": {
          "base_uri": "https://localhost:8080/"
        },
        "id": "udFt-JFBAJ4P",
        "outputId": "621a2730-ccca-4d18-8ac6-d4e9271675f1"
      },
      "execution_count": null,
      "outputs": [
        {
          "output_type": "stream",
          "name": "stdout",
          "text": [
            "u:  [1]\n",
            "v:  [1. 1. 1.]\n",
            "Ошибки:  [1 0]\n",
            "Полученное кодовое слово с ошибкой:  [0. 0. 1.]\n",
            "Синдромы для этого кодового слова:  [0. 1.]\n",
            "Обнаружена ошибка!\n",
            "[0. 0. 1.]\n",
            "Восстановленное слово:  [0. 0. 0.]\n",
            "Ошибка была исправлена успешно!\n"
          ]
        }
      ]
    },
    {
      "cell_type": "markdown",
      "source": [
        "Трехкратная"
      ],
      "metadata": {
        "id": "T4ILTTwYAMMp"
      }
    },
    {
      "cell_type": "code",
      "source": [
        "word = [1]\n",
        "code_syndrom_error(word, 3, 1, H, G, syndroms, 3)"
      ],
      "metadata": {
        "colab": {
          "base_uri": "https://localhost:8080/"
        },
        "id": "qaTuh0LDAOFb",
        "outputId": "5a86b652-1ce9-4279-c0fd-2e6939b1e8f8"
      },
      "execution_count": null,
      "outputs": [
        {
          "output_type": "stream",
          "name": "stdout",
          "text": [
            "u:  [1]\n",
            "v:  [1. 1. 1.]\n",
            "Ошибки:  [1 0 2]\n",
            "Полученное кодовое слово с ошибкой:  [0. 0. 0.]\n",
            "Синдромы для этого кодового слова:  [0. 0.]\n",
            "None\n",
            "Синдрома нет в таблице, ошибка не исправлена.\n"
          ]
        }
      ]
    },
    {
      "cell_type": "markdown",
      "source": [
        "r = 3\n"
      ],
      "metadata": {
        "id": "7cxWk5R2fSEC"
      }
    },
    {
      "cell_type": "code",
      "source": [
        "G_2, H_2, syndroms_2 = code_h(3)\n",
        "print(G_2,'\\n')\n",
        "print(H_2,'\\n')\n",
        "print(syndroms_2,'\\n')"
      ],
      "metadata": {
        "colab": {
          "base_uri": "https://localhost:8080/"
        },
        "id": "QD0hyupbfWuN",
        "outputId": "fa69cd45-8563-4e5c-fb91-4e4f7cd1eef1"
      },
      "execution_count": null,
      "outputs": [
        {
          "output_type": "stream",
          "name": "stdout",
          "text": [
            "[[1. 0. 0. 0. 1. 1. 1.]\n",
            " [0. 1. 0. 0. 1. 1. 0.]\n",
            " [0. 0. 1. 0. 1. 0. 1.]\n",
            " [0. 0. 0. 1. 0. 1. 1.]] \n",
            "\n",
            "[[1. 1. 1.]\n",
            " [1. 1. 0.]\n",
            " [1. 0. 1.]\n",
            " [0. 1. 1.]\n",
            " [1. 0. 0.]\n",
            " [0. 1. 0.]\n",
            " [0. 0. 1.]] \n",
            "\n",
            "{(0.0, 0.0, 1.0): array([0., 0., 0., 0., 0., 0., 1.]), (0.0, 1.0, 0.0): array([0., 0., 0., 0., 0., 1., 0.]), (1.0, 0.0, 0.0): array([0., 0., 0., 0., 1., 0., 0.]), (0.0, 1.0, 1.0): array([0., 0., 0., 1., 0., 0., 0.]), (1.0, 0.0, 1.0): array([0., 0., 1., 0., 0., 0., 0.]), (1.0, 1.0, 0.0): array([0., 1., 0., 0., 0., 0., 0.]), (1.0, 1.0, 1.0): array([1., 0., 0., 0., 0., 0., 0.])} \n",
            "\n"
          ]
        }
      ]
    },
    {
      "cell_type": "markdown",
      "source": [
        "Однократная"
      ],
      "metadata": {
        "id": "fF0rQ5TXATNb"
      }
    },
    {
      "cell_type": "code",
      "source": [
        "word = [1,0,0,1]\n",
        "code_syndrom_error(word, 7, 4, H_2, G_2, syndroms_2, 1)"
      ],
      "metadata": {
        "colab": {
          "base_uri": "https://localhost:8080/"
        },
        "id": "NfOdQlQVfjWh",
        "outputId": "47685370-033b-40bd-ff0d-f486a6e9b56e"
      },
      "execution_count": null,
      "outputs": [
        {
          "output_type": "stream",
          "name": "stdout",
          "text": [
            "u:  [1, 0, 0, 1]\n",
            "v:  [1. 0. 0. 1. 1. 0. 0.]\n",
            "Ошибки:  [0]\n",
            "Полученное кодовое слово с ошибкой:  [0. 0. 0. 1. 1. 0. 0.]\n",
            "Синдромы для этого кодового слова:  [1. 1. 1.]\n",
            "Обнаружена ошибка!\n",
            "[1. 0. 0. 0. 0. 0. 0.]\n",
            "Восстановленное слово:  [1. 0. 0. 1. 1. 0. 0.]\n",
            "Ошибка была исправлена успешно!\n"
          ]
        }
      ]
    },
    {
      "cell_type": "markdown",
      "source": [
        "Двухкратная"
      ],
      "metadata": {
        "id": "1RuiOlkmAV0R"
      }
    },
    {
      "cell_type": "code",
      "source": [
        "word = [1,0,0,1]\n",
        "code_syndrom_error(word, 7, 4, H_2, G_2, syndroms_2, 2)"
      ],
      "metadata": {
        "colab": {
          "base_uri": "https://localhost:8080/"
        },
        "id": "N-_s0nqGAhu9",
        "outputId": "29e88833-dfde-417e-d781-807ce200a43c"
      },
      "execution_count": null,
      "outputs": [
        {
          "output_type": "stream",
          "name": "stdout",
          "text": [
            "u:  [1, 0, 0, 1]\n",
            "v:  [1. 0. 0. 1. 1. 0. 0.]\n",
            "Ошибки:  [3 1]\n",
            "Полученное кодовое слово с ошибкой:  [1. 1. 0. 0. 1. 0. 0.]\n",
            "Синдромы для этого кодового слова:  [1. 0. 1.]\n",
            "Обнаружена ошибка!\n",
            "[0. 0. 1. 0. 0. 0. 0.]\n",
            "Восстановленное слово:  [1. 1. 1. 0. 1. 0. 0.]\n",
            "Ошибка была исправлена успешно!\n"
          ]
        }
      ]
    },
    {
      "cell_type": "markdown",
      "source": [
        "Трехкратная"
      ],
      "metadata": {
        "id": "Dc_IoP_uAiqy"
      }
    },
    {
      "cell_type": "code",
      "source": [
        "word = [1,0,0,1]\n",
        "code_syndrom_error(word, 7, 4, H_2, G_2, syndroms_2, 3)"
      ],
      "metadata": {
        "colab": {
          "base_uri": "https://localhost:8080/"
        },
        "id": "C6Liw4QDAlgU",
        "outputId": "2a4429e6-8268-47d8-ac10-aa14aaa725f9"
      },
      "execution_count": null,
      "outputs": [
        {
          "output_type": "stream",
          "name": "stdout",
          "text": [
            "u:  [1, 0, 0, 1]\n",
            "v:  [1. 0. 0. 1. 1. 0. 0.]\n",
            "Ошибки:  [6 4 2]\n",
            "Полученное кодовое слово с ошибкой:  [1. 0. 1. 1. 0. 0. 1.]\n",
            "Синдромы для этого кодового слова:  [0. 0. 0.]\n",
            "None\n",
            "Синдрома нет в таблице, ошибка не исправлена.\n"
          ]
        }
      ]
    },
    {
      "cell_type": "markdown",
      "source": [
        "r = 4\n"
      ],
      "metadata": {
        "id": "dpID3zmnk8Qu"
      }
    },
    {
      "cell_type": "code",
      "source": [
        "G_3, H_3, syndroms_3 = code_h(4)\n",
        "print(G_3,'\\n')\n",
        "print(H_3,'\\n')\n",
        "print(syndroms_3,'\\n')"
      ],
      "metadata": {
        "colab": {
          "base_uri": "https://localhost:8080/"
        },
        "id": "PdRnT6mflARz",
        "outputId": "f703eb84-ac52-4a28-9b9f-9373c7aa49cd"
      },
      "execution_count": null,
      "outputs": [
        {
          "output_type": "stream",
          "name": "stdout",
          "text": [
            "[[1. 0. 0. 0. 0. 0. 0. 0. 0. 0. 0. 1. 1. 1. 1.]\n",
            " [0. 1. 0. 0. 0. 0. 0. 0. 0. 0. 0. 1. 1. 1. 0.]\n",
            " [0. 0. 1. 0. 0. 0. 0. 0. 0. 0. 0. 1. 1. 0. 1.]\n",
            " [0. 0. 0. 1. 0. 0. 0. 0. 0. 0. 0. 1. 0. 1. 1.]\n",
            " [0. 0. 0. 0. 1. 0. 0. 0. 0. 0. 0. 0. 1. 1. 1.]\n",
            " [0. 0. 0. 0. 0. 1. 0. 0. 0. 0. 0. 1. 1. 0. 0.]\n",
            " [0. 0. 0. 0. 0. 0. 1. 0. 0. 0. 0. 1. 0. 1. 0.]\n",
            " [0. 0. 0. 0. 0. 0. 0. 1. 0. 0. 0. 1. 0. 0. 1.]\n",
            " [0. 0. 0. 0. 0. 0. 0. 0. 1. 0. 0. 0. 1. 1. 0.]\n",
            " [0. 0. 0. 0. 0. 0. 0. 0. 0. 1. 0. 0. 1. 0. 1.]\n",
            " [0. 0. 0. 0. 0. 0. 0. 0. 0. 0. 1. 0. 0. 1. 1.]] \n",
            "\n",
            "[[1. 1. 1. 1.]\n",
            " [1. 1. 1. 0.]\n",
            " [1. 1. 0. 1.]\n",
            " [1. 0. 1. 1.]\n",
            " [0. 1. 1. 1.]\n",
            " [1. 1. 0. 0.]\n",
            " [1. 0. 1. 0.]\n",
            " [1. 0. 0. 1.]\n",
            " [0. 1. 1. 0.]\n",
            " [0. 1. 0. 1.]\n",
            " [0. 0. 1. 1.]\n",
            " [1. 0. 0. 0.]\n",
            " [0. 1. 0. 0.]\n",
            " [0. 0. 1. 0.]\n",
            " [0. 0. 0. 1.]] \n",
            "\n",
            "{(0.0, 0.0, 0.0, 1.0): array([0., 0., 0., 0., 0., 0., 0., 0., 0., 0., 0., 0., 0., 0., 1.]), (0.0, 0.0, 1.0, 0.0): array([0., 0., 0., 0., 0., 0., 0., 0., 0., 0., 0., 0., 0., 1., 0.]), (0.0, 1.0, 0.0, 0.0): array([0., 0., 0., 0., 0., 0., 0., 0., 0., 0., 0., 0., 1., 0., 0.]), (1.0, 0.0, 0.0, 0.0): array([0., 0., 0., 0., 0., 0., 0., 0., 0., 0., 0., 1., 0., 0., 0.]), (0.0, 0.0, 1.0, 1.0): array([0., 0., 0., 0., 0., 0., 0., 0., 0., 0., 1., 0., 0., 0., 0.]), (0.0, 1.0, 0.0, 1.0): array([0., 0., 0., 0., 0., 0., 0., 0., 0., 1., 0., 0., 0., 0., 0.]), (0.0, 1.0, 1.0, 0.0): array([0., 0., 0., 0., 0., 0., 0., 0., 1., 0., 0., 0., 0., 0., 0.]), (1.0, 0.0, 0.0, 1.0): array([0., 0., 0., 0., 0., 0., 0., 1., 0., 0., 0., 0., 0., 0., 0.]), (1.0, 0.0, 1.0, 0.0): array([0., 0., 0., 0., 0., 0., 1., 0., 0., 0., 0., 0., 0., 0., 0.]), (1.0, 1.0, 0.0, 0.0): array([0., 0., 0., 0., 0., 1., 0., 0., 0., 0., 0., 0., 0., 0., 0.]), (0.0, 1.0, 1.0, 1.0): array([0., 0., 0., 0., 1., 0., 0., 0., 0., 0., 0., 0., 0., 0., 0.]), (1.0, 0.0, 1.0, 1.0): array([0., 0., 0., 1., 0., 0., 0., 0., 0., 0., 0., 0., 0., 0., 0.]), (1.0, 1.0, 0.0, 1.0): array([0., 0., 1., 0., 0., 0., 0., 0., 0., 0., 0., 0., 0., 0., 0.]), (1.0, 1.0, 1.0, 0.0): array([0., 1., 0., 0., 0., 0., 0., 0., 0., 0., 0., 0., 0., 0., 0.]), (1.0, 1.0, 1.0, 1.0): array([1., 0., 0., 0., 0., 0., 0., 0., 0., 0., 0., 0., 0., 0., 0.])} \n",
            "\n"
          ]
        }
      ]
    },
    {
      "cell_type": "markdown",
      "source": [
        "Однократная"
      ],
      "metadata": {
        "id": "ox6SvmJbAp2l"
      }
    },
    {
      "cell_type": "code",
      "source": [
        "word = [1,0,0,1,0,0,1,0,1,1,1]\n",
        "code_syndrom_error(word, 15, 11, H_3, G_3, syndroms_3, 1)"
      ],
      "metadata": {
        "colab": {
          "base_uri": "https://localhost:8080/"
        },
        "id": "E6VO9RxQlE2Y",
        "outputId": "fe8d1b07-d8bb-4327-9310-987cb24c6ca1"
      },
      "execution_count": null,
      "outputs": [
        {
          "output_type": "stream",
          "name": "stdout",
          "text": [
            "u:  [1, 0, 0, 1, 0, 0, 1, 0, 1, 1, 1]\n",
            "v:  [1. 0. 0. 1. 0. 0. 1. 0. 1. 1. 1. 1. 1. 1. 0.]\n",
            "Ошибки:  [13]\n",
            "Полученное кодовое слово с ошибкой:  [1. 0. 0. 1. 0. 0. 1. 0. 1. 1. 1. 1. 1. 0. 0.]\n",
            "Синдромы для этого кодового слова:  [0. 0. 1. 0.]\n",
            "Обнаружена ошибка!\n",
            "[0. 0. 0. 0. 0. 0. 0. 0. 0. 0. 0. 0. 0. 1. 0.]\n",
            "Восстановленное слово:  [1. 0. 0. 1. 0. 0. 1. 0. 1. 1. 1. 1. 1. 1. 0.]\n",
            "Ошибка была исправлена успешно!\n"
          ]
        }
      ]
    },
    {
      "cell_type": "markdown",
      "source": [
        "Двухкратная"
      ],
      "metadata": {
        "id": "TsBxd0elArwi"
      }
    },
    {
      "cell_type": "code",
      "source": [
        "word = [1,0,0,1,0,0,1,0,1,1,1]\n",
        "code_syndrom_error(word, 15, 11, H_3, G_3, syndroms_3, 2)"
      ],
      "metadata": {
        "colab": {
          "base_uri": "https://localhost:8080/"
        },
        "id": "TTc48iKXAst6",
        "outputId": "dbed9854-f3b2-477d-cb40-70e41e429fd1"
      },
      "execution_count": null,
      "outputs": [
        {
          "output_type": "stream",
          "name": "stdout",
          "text": [
            "u:  [1, 0, 0, 1, 0, 0, 1, 0, 1, 1, 1]\n",
            "v:  [1. 0. 0. 1. 0. 0. 1. 0. 1. 1. 1. 1. 1. 1. 0.]\n",
            "Ошибки:  [12 14]\n",
            "Полученное кодовое слово с ошибкой:  [1. 0. 0. 1. 0. 0. 1. 0. 1. 1. 1. 1. 0. 1. 1.]\n",
            "Синдромы для этого кодового слова:  [0. 1. 0. 1.]\n",
            "Обнаружена ошибка!\n",
            "[0. 0. 0. 0. 0. 0. 0. 0. 0. 1. 0. 0. 0. 0. 0.]\n",
            "Восстановленное слово:  [1. 0. 0. 1. 0. 0. 1. 0. 1. 0. 1. 1. 0. 1. 1.]\n",
            "Ошибка была исправлена успешно!\n"
          ]
        }
      ]
    },
    {
      "cell_type": "markdown",
      "source": [
        "Трехкратная"
      ],
      "metadata": {
        "id": "KtNXdePHAs74"
      }
    },
    {
      "cell_type": "code",
      "source": [
        "word = [1,0,0,1,0,0,1,0,1,1,1]\n",
        "code_syndrom_error(word, 15, 11, H_3, G_3, syndroms_3, 3)"
      ],
      "metadata": {
        "colab": {
          "base_uri": "https://localhost:8080/"
        },
        "id": "IjaqNd-6AuCV",
        "outputId": "4da78171-baa8-4ab3-9862-2ff9f0ff7b0b"
      },
      "execution_count": null,
      "outputs": [
        {
          "output_type": "stream",
          "name": "stdout",
          "text": [
            "u:  [1, 0, 0, 1, 0, 0, 1, 0, 1, 1, 1]\n",
            "v:  [1. 0. 0. 1. 0. 0. 1. 0. 1. 1. 1. 1. 1. 1. 0.]\n",
            "Ошибки:  [14 11  9]\n",
            "Полученное кодовое слово с ошибкой:  [1. 0. 0. 1. 0. 0. 1. 0. 1. 0. 1. 0. 1. 1. 1.]\n",
            "Синдромы для этого кодового слова:  [1. 1. 0. 0.]\n",
            "Обнаружена ошибка!\n",
            "[0. 0. 0. 0. 0. 1. 0. 0. 0. 0. 0. 0. 0. 0. 0.]\n",
            "Восстановленное слово:  [1. 0. 0. 1. 0. 1. 1. 0. 1. 0. 1. 0. 1. 1. 1.]\n",
            "Ошибка была исправлена успешно!\n"
          ]
        }
      ]
    },
    {
      "cell_type": "markdown",
      "source": [
        "3.3 Написать функцию формирования порождающей и проверочной\n",
        "матриц расширенного кода Хэмминга (𝟐\n",
        "𝒓\n",
        ", 𝟐\n",
        "𝒓 − 𝒓 − 𝟏, 𝟑) на основе\n",
        "параметра 𝒓, а также таблицы синдромов для всех однократных\n",
        "ошибок"
      ],
      "metadata": {
        "id": "9DIyknna-q_X"
      }
    },
    {
      "cell_type": "code",
      "source": [
        "def code_cool_h(r):\n",
        "    G, H, syndroms = code_h(r)\n",
        "\n",
        "    H = np.hstack([H, np.reshape(np.ones(H.shape[0]), (H.shape[0], 1))])\n",
        "    H = np.vstack([H, H[-1, :]])\n",
        "    H[-1, -2] = 0\n",
        "    add_to_G = np.reshape(np.array([np.sum(G[i, :])%2 for i in range(G.shape[0])]), (G.shape[0], 1))\n",
        "    G = np.hstack([G, add_to_G])\n",
        "\n",
        "    syndroms = dict()\n",
        "    ed = np.eye(H.shape[0])\n",
        "    for i in range(ed.shape[0]-1, -1, -1):\n",
        "        syndroms[tuple(ed[i, :]@H)] = ed[i, :]\n",
        "    return G, H, syndroms"
      ],
      "metadata": {
        "id": "xbdiFmoa-yFW"
      },
      "execution_count": null,
      "outputs": []
    },
    {
      "cell_type": "markdown",
      "source": [
        "3.4. Провести исследование расширенного кода Хэмминга для одно-,\n",
        "двух-, трёх- и четырёхкратных ошибок для 𝒓 = 𝟐, 𝟑, 𝟒"
      ],
      "metadata": {
        "id": "w2Ttponw-8Ue"
      }
    },
    {
      "cell_type": "markdown",
      "source": [
        "r = 2"
      ],
      "metadata": {
        "id": "fRwpWoU6--Nz"
      }
    },
    {
      "cell_type": "code",
      "source": [
        "G, H, syndroms = code_cool_h(2)\n",
        "print(G,'\\n')\n",
        "print(H,'\\n')\n",
        "print(syndroms,'\\n')"
      ],
      "metadata": {
        "colab": {
          "base_uri": "https://localhost:8080/"
        },
        "id": "DmiAuZDq_AFH",
        "outputId": "b1f330de-b189-48e9-b58c-7ea2c4200f84"
      },
      "execution_count": null,
      "outputs": [
        {
          "output_type": "stream",
          "name": "stdout",
          "text": [
            "[[1. 1. 1. 1.]] \n",
            "\n",
            "[[1. 1. 1.]\n",
            " [1. 0. 1.]\n",
            " [0. 1. 1.]\n",
            " [0. 0. 1.]] \n",
            "\n",
            "{(0.0, 0.0, 1.0): array([0., 0., 0., 1.]), (0.0, 1.0, 1.0): array([0., 0., 1., 0.]), (1.0, 0.0, 1.0): array([0., 1., 0., 0.]), (1.0, 1.0, 1.0): array([1., 0., 0., 0.])} \n",
            "\n"
          ]
        }
      ]
    },
    {
      "cell_type": "markdown",
      "source": [
        "Однократная"
      ],
      "metadata": {
        "id": "6tSW8tdkAyDT"
      }
    },
    {
      "cell_type": "code",
      "source": [
        "word = [1]\n",
        "code_syndrom_error(word, 3, 1, H, G, syndroms, 1)"
      ],
      "metadata": {
        "colab": {
          "base_uri": "https://localhost:8080/"
        },
        "id": "5gvs2q2j_IXJ",
        "outputId": "296f8007-62f1-48b0-a982-945a5980687a"
      },
      "execution_count": null,
      "outputs": [
        {
          "output_type": "stream",
          "name": "stdout",
          "text": [
            "u:  [1]\n",
            "v:  [1. 1. 1. 1.]\n",
            "Ошибки:  [1]\n",
            "Полученное кодовое слово с ошибкой:  [1. 0. 1. 1.]\n",
            "Синдромы для этого кодового слова:  [1. 0. 1.]\n",
            "Обнаружена ошибка!\n",
            "[0. 1. 0. 0.]\n",
            "Восстановленное слово:  [1. 1. 1. 1.]\n",
            "Ошибка была исправлена успешно!\n"
          ]
        }
      ]
    },
    {
      "cell_type": "markdown",
      "source": [
        "Двухкратная"
      ],
      "metadata": {
        "id": "E539LS2zA2VJ"
      }
    },
    {
      "cell_type": "code",
      "source": [
        "word = [1]\n",
        "code_syndrom_error(word, 3, 1, H, G, syndroms, 2)"
      ],
      "metadata": {
        "colab": {
          "base_uri": "https://localhost:8080/"
        },
        "id": "TabdNBjZA4Ep",
        "outputId": "84b01de4-de31-4d61-f9bd-b6c3eed6ef80"
      },
      "execution_count": null,
      "outputs": [
        {
          "output_type": "stream",
          "name": "stdout",
          "text": [
            "u:  [1]\n",
            "v:  [1. 1. 1. 1.]\n",
            "Ошибки:  [1 0]\n",
            "Полученное кодовое слово с ошибкой:  [0. 0. 1. 1.]\n",
            "Синдромы для этого кодового слова:  [0. 1. 0.]\n",
            "Обнаружена ошибка!\n",
            "None\n",
            "Синдрома нет в таблице, ошибка не исправлена.\n"
          ]
        }
      ]
    },
    {
      "cell_type": "markdown",
      "source": [
        "Трехкратная"
      ],
      "metadata": {
        "id": "qgt9t_qMA4S7"
      }
    },
    {
      "cell_type": "code",
      "source": [
        "word = [1]\n",
        "code_syndrom_error(word, 3, 1, H, G, syndroms, 3)"
      ],
      "metadata": {
        "colab": {
          "base_uri": "https://localhost:8080/"
        },
        "id": "u0gQAKodA5eE",
        "outputId": "25ba14e6-63cc-4126-94bb-d89aece9358d"
      },
      "execution_count": null,
      "outputs": [
        {
          "output_type": "stream",
          "name": "stdout",
          "text": [
            "u:  [1]\n",
            "v:  [1. 1. 1. 1.]\n",
            "Ошибки:  [1 2 0]\n",
            "Полученное кодовое слово с ошибкой:  [0. 0. 0. 1.]\n",
            "Синдромы для этого кодового слова:  [0. 0. 1.]\n",
            "Обнаружена ошибка!\n",
            "[0. 0. 0. 1.]\n",
            "Восстановленное слово:  [0. 0. 0. 0.]\n",
            "Ошибка была исправлена успешно!\n"
          ]
        }
      ]
    },
    {
      "cell_type": "markdown",
      "source": [
        "r = 3"
      ],
      "metadata": {
        "id": "itkWiEfL_LnV"
      }
    },
    {
      "cell_type": "code",
      "source": [
        "G_2, H_2, syndroms_2 = code_cool_h(3)\n",
        "print(G_2,'\\n')\n",
        "print(H_2,'\\n')\n",
        "print(syndroms_2,'\\n')"
      ],
      "metadata": {
        "colab": {
          "base_uri": "https://localhost:8080/"
        },
        "id": "eRfjf7OQ_Mu7",
        "outputId": "53a10b56-2e3d-4f99-de8c-ca6040e95974"
      },
      "execution_count": null,
      "outputs": [
        {
          "output_type": "stream",
          "name": "stdout",
          "text": [
            "[[1. 0. 0. 0. 1. 1. 1. 0.]\n",
            " [0. 1. 0. 0. 1. 1. 0. 1.]\n",
            " [0. 0. 1. 0. 1. 0. 1. 1.]\n",
            " [0. 0. 0. 1. 0. 1. 1. 1.]] \n",
            "\n",
            "[[1. 1. 1. 1.]\n",
            " [1. 1. 0. 1.]\n",
            " [1. 0. 1. 1.]\n",
            " [0. 1. 1. 1.]\n",
            " [1. 0. 0. 1.]\n",
            " [0. 1. 0. 1.]\n",
            " [0. 0. 1. 1.]\n",
            " [0. 0. 0. 1.]] \n",
            "\n",
            "{(0.0, 0.0, 0.0, 1.0): array([0., 0., 0., 0., 0., 0., 0., 1.]), (0.0, 0.0, 1.0, 1.0): array([0., 0., 0., 0., 0., 0., 1., 0.]), (0.0, 1.0, 0.0, 1.0): array([0., 0., 0., 0., 0., 1., 0., 0.]), (1.0, 0.0, 0.0, 1.0): array([0., 0., 0., 0., 1., 0., 0., 0.]), (0.0, 1.0, 1.0, 1.0): array([0., 0., 0., 1., 0., 0., 0., 0.]), (1.0, 0.0, 1.0, 1.0): array([0., 0., 1., 0., 0., 0., 0., 0.]), (1.0, 1.0, 0.0, 1.0): array([0., 1., 0., 0., 0., 0., 0., 0.]), (1.0, 1.0, 1.0, 1.0): array([1., 0., 0., 0., 0., 0., 0., 0.])} \n",
            "\n"
          ]
        }
      ]
    },
    {
      "cell_type": "markdown",
      "source": [
        "Однократная"
      ],
      "metadata": {
        "id": "s5IbmuroBj6M"
      }
    },
    {
      "cell_type": "code",
      "source": [
        "word = [1,0,0,1]\n",
        "code_syndrom_error(word, 7, 4, H_2, G_2, syndroms_2, 1)"
      ],
      "metadata": {
        "colab": {
          "base_uri": "https://localhost:8080/"
        },
        "id": "hze8aW-V_Pgt",
        "outputId": "cf63b170-9d82-4aa3-9630-6e2b0d3b05eb"
      },
      "execution_count": null,
      "outputs": [
        {
          "output_type": "stream",
          "name": "stdout",
          "text": [
            "u:  [1, 0, 0, 1]\n",
            "v:  [1. 0. 0. 1. 1. 0. 0. 1.]\n",
            "Ошибки:  [1]\n",
            "Полученное кодовое слово с ошибкой:  [1. 1. 0. 1. 1. 0. 0. 1.]\n",
            "Синдромы для этого кодового слова:  [1. 1. 0. 1.]\n",
            "Обнаружена ошибка!\n",
            "[0. 1. 0. 0. 0. 0. 0. 0.]\n",
            "Восстановленное слово:  [1. 0. 0. 1. 1. 0. 0. 1.]\n",
            "Ошибка была исправлена успешно!\n"
          ]
        }
      ]
    },
    {
      "cell_type": "markdown",
      "source": [
        "Двухкратная"
      ],
      "metadata": {
        "id": "Lfu1lZHJBEZ7"
      }
    },
    {
      "cell_type": "code",
      "source": [
        "word = [1,0,0,1]\n",
        "code_syndrom_error(word, 7, 4, H_2, G_2, syndroms_2, 2)"
      ],
      "metadata": {
        "colab": {
          "base_uri": "https://localhost:8080/"
        },
        "id": "U1EZUcuRBFdC",
        "outputId": "5cf561f9-68db-428a-c9b7-b574903d7bd1"
      },
      "execution_count": null,
      "outputs": [
        {
          "output_type": "stream",
          "name": "stdout",
          "text": [
            "u:  [1, 0, 0, 1]\n",
            "v:  [1. 0. 0. 1. 1. 0. 0. 1.]\n",
            "Ошибки:  [1 4]\n",
            "Полученное кодовое слово с ошибкой:  [1. 1. 0. 1. 0. 0. 0. 1.]\n",
            "Синдромы для этого кодового слова:  [0. 1. 0. 0.]\n",
            "Обнаружена ошибка!\n",
            "None\n",
            "Синдрома нет в таблице, ошибка не исправлена.\n"
          ]
        }
      ]
    },
    {
      "cell_type": "markdown",
      "source": [
        "Трехкратная"
      ],
      "metadata": {
        "id": "Lix2qhKqBFjh"
      }
    },
    {
      "cell_type": "code",
      "source": [
        "word = [1,0,0,1]\n",
        "code_syndrom_error(word, 7, 4, H_2, G_2, syndroms_2, 3)"
      ],
      "metadata": {
        "colab": {
          "base_uri": "https://localhost:8080/"
        },
        "id": "uLZIzf8SBGlC",
        "outputId": "6e0bf665-756e-4558-abc3-4e7424cc3185"
      },
      "execution_count": null,
      "outputs": [
        {
          "output_type": "stream",
          "name": "stdout",
          "text": [
            "u:  [1, 0, 0, 1]\n",
            "v:  [1. 0. 0. 1. 1. 0. 0. 1.]\n",
            "Ошибки:  [3 2 1]\n",
            "Полученное кодовое слово с ошибкой:  [1. 1. 1. 0. 1. 0. 0. 1.]\n",
            "Синдромы для этого кодового слова:  [0. 0. 0. 1.]\n",
            "Обнаружена ошибка!\n",
            "[0. 0. 0. 0. 0. 0. 0. 1.]\n",
            "Восстановленное слово:  [1. 1. 1. 0. 1. 0. 0. 0.]\n",
            "Ошибка была исправлена успешно!\n"
          ]
        }
      ]
    },
    {
      "cell_type": "markdown",
      "source": [
        "Четырехкратная"
      ],
      "metadata": {
        "id": "mjNnZk-1BGqz"
      }
    },
    {
      "cell_type": "code",
      "source": [
        "word = [1,0,0,1]\n",
        "code_syndrom_error(word, 7, 4, H_2, G_2, syndroms_2, 4)"
      ],
      "metadata": {
        "colab": {
          "base_uri": "https://localhost:8080/"
        },
        "id": "rB4YDOGpBIao",
        "outputId": "1e09f13e-60df-4a3b-8447-9d1bd27ce7d5"
      },
      "execution_count": null,
      "outputs": [
        {
          "output_type": "stream",
          "name": "stdout",
          "text": [
            "u:  [1, 0, 0, 1]\n",
            "v:  [1. 0. 0. 1. 1. 0. 0. 1.]\n",
            "Ошибки:  [4 3 5 6]\n",
            "Полученное кодовое слово с ошибкой:  [1. 0. 0. 0. 0. 1. 1. 1.]\n",
            "Синдромы для этого кодового слова:  [1. 0. 0. 0.]\n",
            "Обнаружена ошибка!\n",
            "None\n",
            "Синдрома нет в таблице, ошибка не исправлена.\n"
          ]
        }
      ]
    },
    {
      "cell_type": "markdown",
      "source": [
        "r = 4"
      ],
      "metadata": {
        "id": "zaghJAfO_TU0"
      }
    },
    {
      "cell_type": "code",
      "source": [
        "G_3, H_3, syndroms_3 = code_cool_h(4)\n",
        "print(G_3,'\\n')\n",
        "print(H_3,'\\n')\n",
        "print(syndroms_3,'\\n')"
      ],
      "metadata": {
        "colab": {
          "base_uri": "https://localhost:8080/"
        },
        "id": "QIsXtWEj_UZ1",
        "outputId": "089ed5fe-b8ed-47ca-9491-4b72010162fb"
      },
      "execution_count": null,
      "outputs": [
        {
          "output_type": "stream",
          "name": "stdout",
          "text": [
            "[[1. 0. 0. 0. 0. 0. 0. 0. 0. 0. 0. 1. 1. 1. 1. 1.]\n",
            " [0. 1. 0. 0. 0. 0. 0. 0. 0. 0. 0. 1. 1. 1. 0. 0.]\n",
            " [0. 0. 1. 0. 0. 0. 0. 0. 0. 0. 0. 1. 1. 0. 1. 0.]\n",
            " [0. 0. 0. 1. 0. 0. 0. 0. 0. 0. 0. 1. 0. 1. 1. 0.]\n",
            " [0. 0. 0. 0. 1. 0. 0. 0. 0. 0. 0. 0. 1. 1. 1. 0.]\n",
            " [0. 0. 0. 0. 0. 1. 0. 0. 0. 0. 0. 1. 1. 0. 0. 1.]\n",
            " [0. 0. 0. 0. 0. 0. 1. 0. 0. 0. 0. 1. 0. 1. 0. 1.]\n",
            " [0. 0. 0. 0. 0. 0. 0. 1. 0. 0. 0. 1. 0. 0. 1. 1.]\n",
            " [0. 0. 0. 0. 0. 0. 0. 0. 1. 0. 0. 0. 1. 1. 0. 1.]\n",
            " [0. 0. 0. 0. 0. 0. 0. 0. 0. 1. 0. 0. 1. 0. 1. 1.]\n",
            " [0. 0. 0. 0. 0. 0. 0. 0. 0. 0. 1. 0. 0. 1. 1. 1.]] \n",
            "\n",
            "[[1. 1. 1. 1. 1.]\n",
            " [1. 1. 1. 0. 1.]\n",
            " [1. 1. 0. 1. 1.]\n",
            " [1. 0. 1. 1. 1.]\n",
            " [0. 1. 1. 1. 1.]\n",
            " [1. 1. 0. 0. 1.]\n",
            " [1. 0. 1. 0. 1.]\n",
            " [1. 0. 0. 1. 1.]\n",
            " [0. 1. 1. 0. 1.]\n",
            " [0. 1. 0. 1. 1.]\n",
            " [0. 0. 1. 1. 1.]\n",
            " [1. 0. 0. 0. 1.]\n",
            " [0. 1. 0. 0. 1.]\n",
            " [0. 0. 1. 0. 1.]\n",
            " [0. 0. 0. 1. 1.]\n",
            " [0. 0. 0. 0. 1.]] \n",
            "\n",
            "{(0.0, 0.0, 0.0, 0.0, 1.0): array([0., 0., 0., 0., 0., 0., 0., 0., 0., 0., 0., 0., 0., 0., 0., 1.]), (0.0, 0.0, 0.0, 1.0, 1.0): array([0., 0., 0., 0., 0., 0., 0., 0., 0., 0., 0., 0., 0., 0., 1., 0.]), (0.0, 0.0, 1.0, 0.0, 1.0): array([0., 0., 0., 0., 0., 0., 0., 0., 0., 0., 0., 0., 0., 1., 0., 0.]), (0.0, 1.0, 0.0, 0.0, 1.0): array([0., 0., 0., 0., 0., 0., 0., 0., 0., 0., 0., 0., 1., 0., 0., 0.]), (1.0, 0.0, 0.0, 0.0, 1.0): array([0., 0., 0., 0., 0., 0., 0., 0., 0., 0., 0., 1., 0., 0., 0., 0.]), (0.0, 0.0, 1.0, 1.0, 1.0): array([0., 0., 0., 0., 0., 0., 0., 0., 0., 0., 1., 0., 0., 0., 0., 0.]), (0.0, 1.0, 0.0, 1.0, 1.0): array([0., 0., 0., 0., 0., 0., 0., 0., 0., 1., 0., 0., 0., 0., 0., 0.]), (0.0, 1.0, 1.0, 0.0, 1.0): array([0., 0., 0., 0., 0., 0., 0., 0., 1., 0., 0., 0., 0., 0., 0., 0.]), (1.0, 0.0, 0.0, 1.0, 1.0): array([0., 0., 0., 0., 0., 0., 0., 1., 0., 0., 0., 0., 0., 0., 0., 0.]), (1.0, 0.0, 1.0, 0.0, 1.0): array([0., 0., 0., 0., 0., 0., 1., 0., 0., 0., 0., 0., 0., 0., 0., 0.]), (1.0, 1.0, 0.0, 0.0, 1.0): array([0., 0., 0., 0., 0., 1., 0., 0., 0., 0., 0., 0., 0., 0., 0., 0.]), (0.0, 1.0, 1.0, 1.0, 1.0): array([0., 0., 0., 0., 1., 0., 0., 0., 0., 0., 0., 0., 0., 0., 0., 0.]), (1.0, 0.0, 1.0, 1.0, 1.0): array([0., 0., 0., 1., 0., 0., 0., 0., 0., 0., 0., 0., 0., 0., 0., 0.]), (1.0, 1.0, 0.0, 1.0, 1.0): array([0., 0., 1., 0., 0., 0., 0., 0., 0., 0., 0., 0., 0., 0., 0., 0.]), (1.0, 1.0, 1.0, 0.0, 1.0): array([0., 1., 0., 0., 0., 0., 0., 0., 0., 0., 0., 0., 0., 0., 0., 0.]), (1.0, 1.0, 1.0, 1.0, 1.0): array([1., 0., 0., 0., 0., 0., 0., 0., 0., 0., 0., 0., 0., 0., 0., 0.])} \n",
            "\n"
          ]
        }
      ]
    },
    {
      "cell_type": "markdown",
      "source": [
        "Однократная"
      ],
      "metadata": {
        "id": "OnuHDEoEBNtu"
      }
    },
    {
      "cell_type": "code",
      "source": [
        "word = [1,0,0,1,0,0,1,0,1,1,1]\n",
        "code_syndrom_error(word, 15, 11, H_3, G_3, syndroms_3, 1)"
      ],
      "metadata": {
        "colab": {
          "base_uri": "https://localhost:8080/"
        },
        "id": "bZK5ooEW_X5H",
        "outputId": "fd9b560f-4803-4393-db6e-a8bb6a01c229"
      },
      "execution_count": null,
      "outputs": [
        {
          "output_type": "stream",
          "name": "stdout",
          "text": [
            "u:  [1, 0, 0, 1, 0, 0, 1, 0, 1, 1, 1]\n",
            "v:  [1. 0. 0. 1. 0. 0. 1. 0. 1. 1. 1. 1. 1. 1. 0. 1.]\n",
            "Ошибки:  [12]\n",
            "Полученное кодовое слово с ошибкой:  [1. 0. 0. 1. 0. 0. 1. 0. 1. 1. 1. 1. 0. 1. 0. 1.]\n",
            "Синдромы для этого кодового слова:  [0. 1. 0. 0. 1.]\n",
            "Обнаружена ошибка!\n",
            "[0. 0. 0. 0. 0. 0. 0. 0. 0. 0. 0. 0. 1. 0. 0. 0.]\n",
            "Восстановленное слово:  [1. 0. 0. 1. 0. 0. 1. 0. 1. 1. 1. 1. 1. 1. 0. 1.]\n",
            "Ошибка была исправлена успешно!\n"
          ]
        }
      ]
    },
    {
      "cell_type": "markdown",
      "source": [
        "Двухкратная"
      ],
      "metadata": {
        "id": "RlN9f3hhBPO3"
      }
    },
    {
      "cell_type": "code",
      "source": [
        "word = [1,0,0,1,0,0,1,0,1,1,1]\n",
        "code_syndrom_error(word, 15, 11, H_3, G_3, syndroms_3, 2)"
      ],
      "metadata": {
        "colab": {
          "base_uri": "https://localhost:8080/"
        },
        "id": "JbIkus5zBQRL",
        "outputId": "c19ca9d9-b833-46f5-83be-bfd1e0c6da60"
      },
      "execution_count": null,
      "outputs": [
        {
          "output_type": "stream",
          "name": "stdout",
          "text": [
            "u:  [1, 0, 0, 1, 0, 0, 1, 0, 1, 1, 1]\n",
            "v:  [1. 0. 0. 1. 0. 0. 1. 0. 1. 1. 1. 1. 1. 1. 0. 1.]\n",
            "Ошибки:  [11 10]\n",
            "Полученное кодовое слово с ошибкой:  [1. 0. 0. 1. 0. 0. 1. 0. 1. 1. 0. 0. 1. 1. 0. 1.]\n",
            "Синдромы для этого кодового слова:  [1. 0. 1. 1. 0.]\n",
            "Обнаружена ошибка!\n",
            "None\n",
            "Синдрома нет в таблице, ошибка не исправлена.\n"
          ]
        }
      ]
    },
    {
      "cell_type": "markdown",
      "source": [
        "Трехкратная"
      ],
      "metadata": {
        "id": "W4PsPvIvBQW_"
      }
    },
    {
      "cell_type": "code",
      "source": [
        "word = [1,0,0,1,0,0,1,0,1,1,1]\n",
        "code_syndrom_error(word, 15, 11, H_3, G_3, syndroms_3, 3)"
      ],
      "metadata": {
        "colab": {
          "base_uri": "https://localhost:8080/"
        },
        "id": "yPhhyfVZBRQr",
        "outputId": "c885b38b-0041-4372-e8c9-dde26b53d552"
      },
      "execution_count": null,
      "outputs": [
        {
          "output_type": "stream",
          "name": "stdout",
          "text": [
            "u:  [1, 0, 0, 1, 0, 0, 1, 0, 1, 1, 1]\n",
            "v:  [1. 0. 0. 1. 0. 0. 1. 0. 1. 1. 1. 1. 1. 1. 0. 1.]\n",
            "Ошибки:  [ 1 12  4]\n",
            "Полученное кодовое слово с ошибкой:  [1. 1. 0. 1. 1. 0. 1. 0. 1. 1. 1. 1. 0. 1. 0. 1.]\n",
            "Синдромы для этого кодового слова:  [1. 1. 0. 1. 1.]\n",
            "Обнаружена ошибка!\n",
            "[0. 0. 1. 0. 0. 0. 0. 0. 0. 0. 0. 0. 0. 0. 0. 0.]\n",
            "Восстановленное слово:  [1. 1. 1. 1. 1. 0. 1. 0. 1. 1. 1. 1. 0. 1. 0. 1.]\n",
            "Ошибка была исправлена успешно!\n"
          ]
        }
      ]
    },
    {
      "cell_type": "markdown",
      "source": [
        "Четырехкратная"
      ],
      "metadata": {
        "id": "VEhogOb3BRWg"
      }
    },
    {
      "cell_type": "code",
      "source": [
        "word = [1,0,0,1,0,0,1,0,1,1,1]\n",
        "code_syndrom_error(word, 15, 11, H_3, G_3, syndroms_3, 4)"
      ],
      "metadata": {
        "colab": {
          "base_uri": "https://localhost:8080/"
        },
        "id": "4m0iCdOpBTMV",
        "outputId": "723a4ac4-5136-4235-8060-ba1f78931653"
      },
      "execution_count": null,
      "outputs": [
        {
          "output_type": "stream",
          "name": "stdout",
          "text": [
            "u:  [1, 0, 0, 1, 0, 0, 1, 0, 1, 1, 1]\n",
            "v:  [1. 0. 0. 1. 0. 0. 1. 0. 1. 1. 1. 1. 1. 1. 0. 1.]\n",
            "Ошибки:  [ 3  0  5 12]\n",
            "Полученное кодовое слово с ошибкой:  [0. 0. 0. 0. 0. 1. 1. 0. 1. 1. 1. 1. 0. 1. 0. 1.]\n",
            "Синдромы для этого кодового слова:  [1. 1. 0. 0. 0.]\n",
            "Обнаружена ошибка!\n",
            "None\n",
            "Синдрома нет в таблице, ошибка не исправлена.\n"
          ]
        }
      ]
    }
  ],
  "metadata": {
    "colab": {
      "provenance": []
    },
    "kernelspec": {
      "display_name": "Python 3",
      "name": "python3"
    },
    "language_info": {
      "name": "python"
    }
  },
  "nbformat": 4,
  "nbformat_minor": 0
}
