{
  "cells": [
    {
      "cell_type": "code",
      "execution_count": 37,
      "metadata": {
        "id": "pE-jQJlVrayX"
      },
      "outputs": [],
      "source": [
        "import numpy as np\n",
        "import random"
      ]
    },
    {
      "cell_type": "code",
      "source": [
        "\n",
        "\n",
        "def polynomial_remainder(dividend, divisor):\n",
        "    current_remainder = np.copy(dividend)\n",
        "    len_divisor = len(divisor)\n",
        "    while len(current_remainder) >= len_divisor:\n",
        "        degree_shift = len(current_remainder) - len_divisor\n",
        "        current_remainder[degree_shift:degree_shift + len_divisor] = np.bitwise_xor(current_remainder[degree_shift:degree_shift + len_divisor], divisor)\n",
        "        while len(current_remainder) > 0 and current_remainder[-1] == 0:\n",
        "            current_remainder = current_remainder[:-1]\n",
        "\n",
        "    return current_remainder\n",
        "\n",
        "\n",
        "def polynomial_multiply(poly1, poly2):\n",
        "\n",
        "    result_size = len(poly1) + len(poly2) - 1\n",
        "    product = np.zeros(result_size, dtype=int)\n",
        "\n",
        "    for j in range(len(poly2)):\n",
        "        if poly2[j]:\n",
        "            for i in range(len(poly1)):\n",
        "                product[j + i] ^= poly1[i]\n",
        "\n",
        "    return product\n",
        "\n",
        "def error_and_correction(original_message, generator, error_count):\n",
        "\n",
        "    transmitted_word = polynomial_multiply(original_message, generator)\n",
        "    print(\"Отправленное слово: \", transmitted_word)\n",
        "\n",
        "\n",
        "    received_word = transmitted_word.copy()\n",
        "    error_pattern = np.zeros(len(received_word), dtype=int)\n",
        "\n",
        "\n",
        "    if error_count == 1:\n",
        "        error_position = random.randint(0, len(received_word) - 1)\n",
        "        error_pattern[error_position] = 1\n",
        "    elif error_count == 2:\n",
        "        pos1 = random.randint(0, len(received_word) - 2)\n",
        "        pos2 = (pos1 + random.choice([1, 2])) % len(received_word)\n",
        "        error_pattern[pos1] = error_pattern[pos2] = 1\n",
        "    else:\n",
        "        error_indices = random.sample(range(len(received_word)), error_count)\n",
        "        error_pattern[error_indices] = 1\n",
        "\n",
        "\n",
        "    received_word = (received_word + error_pattern) % 2\n",
        "    print(\"Слово с ошибками:\", received_word)\n",
        "\n",
        "\n",
        "    syndrome = polynomial_remainder(received_word, generator)\n",
        "\n",
        "\n",
        "    error_templates = [[1]] if error_count == 1 else [[1, 1, 1], [1, 0, 1], [1, 1], [1]]\n",
        "\n",
        "\n",
        "    index = 0\n",
        "    is_match_found = False\n",
        "\n",
        "    while not is_match_found:\n",
        "        if any(np.array_equal(syndrome, template) for template in error_templates) or (index > len(received_word) - 1):\n",
        "            is_match_found = True\n",
        "        else:\n",
        "            syndrome = polynomial_remainder(polynomial_multiply(syndrome, np.array([0, 1])), generator)\n",
        "            index += 1\n",
        "\n",
        "\n",
        "    correction_pattern = np.zeros(len(received_word), dtype=int)\n",
        "    if index == 0:\n",
        "        correction_pattern[index] = 1\n",
        "    else:\n",
        "        correction_pattern[len(correction_pattern) - index] = 1\n",
        "\n",
        "    error_correction = polynomial_multiply(syndrome, correction_pattern)[:len(received_word)]\n",
        "    corrected_message = (received_word + error_correction) % 2\n",
        "    print(\"Исправленное слово: \", corrected_message)\n",
        "\n",
        "    if np.array_equal(transmitted_word, corrected_message):\n",
        "        print(\"Успешно: \", corrected_message)\n",
        "    else:\n",
        "        print(\"Ошибка в исправлении\", corrected_message)\n",
        "\n",
        "\n"
      ],
      "metadata": {
        "id": "VX1u6Y06-Zud"
      },
      "execution_count": 38,
      "outputs": []
    },
    {
      "cell_type": "code",
      "source": [
        "def check(a,g,count_mistake):\n",
        "\n",
        "  match count_mistake:\n",
        "    case 1:\n",
        "      print(\"1. Исправление для однократной ошибки\")\n",
        "      error_and_correction(a, g, 1)\n",
        "    case 2:\n",
        "      print(\"2. Исправление для двухкратной ошибки\")\n",
        "      error_and_correction(a, g, 2)\n",
        "    case 3:\n",
        "      print(\"3. Исправление для трехкратной ошибки\")\n",
        "      error_and_correction(a, g, 3)\n",
        "    case 4:\n",
        "      print(\"4. Исправление для четырехкратной ошибки\")\n",
        "      error_and_correction(a, g, 4)\n"
      ],
      "metadata": {
        "id": "-4BmMpsYiilQ"
      },
      "execution_count": 39,
      "outputs": []
    },
    {
      "cell_type": "markdown",
      "source": [
        "6.1 Написать функции кодирования и декодирования для циклического\n",
        "кода\n",
        "порождающим многочленом 𝑔(𝑥) = 1+𝑥2 +𝑥3,\n",
        "исправляющего однократные ошибки и провести исследование этого кода\n",
        "для одно-, двух- и трёхкратных ошибок.6/"
      ],
      "metadata": {
        "id": "1FsvP5XcjwVE"
      }
    },
    {
      "cell_type": "code",
      "source": [
        "a = np.array([1, 0, 0, 1])\n",
        "g = np.array([1, 0, 1, 1])\n",
        "\n",
        "\n",
        "print(\"Порождающий полином:\", g)\n",
        "print(\"Входное слово:\", a)\n",
        "\n",
        "\n",
        "check(a, g, 1)\n",
        "check(a, g, 2)\n",
        "check(a, g, 3)"
      ],
      "metadata": {
        "colab": {
          "base_uri": "https://localhost:8080/"
        },
        "id": "tT8hKVDOhB8o",
        "outputId": "b445bdc1-ec62-4123-a63e-39440802b323"
      },
      "execution_count": 40,
      "outputs": [
        {
          "output_type": "stream",
          "name": "stdout",
          "text": [
            "Порождающий полином: [1 0 1 1]\n",
            "Входное слово: [1 0 0 1]\n",
            "1. Исправление для однократной ошибки\n",
            "Отправленное слово:  [1 0 1 0 0 1 1]\n",
            "Слово с ошибками: [1 0 1 0 0 0 1]\n",
            "Исправленное слово:  [1 0 1 0 0 1 1]\n",
            "Успешно:  [1 0 1 0 0 1 1]\n",
            "2. Исправление для двухкратной ошибки\n",
            "Отправленное слово:  [1 0 1 0 0 1 1]\n",
            "Слово с ошибками: [0 1 1 0 0 1 1]\n",
            "Исправленное слово:  [1 0 1 0 0 1 1]\n",
            "Успешно:  [1 0 1 0 0 1 1]\n",
            "3. Исправление для трехкратной ошибки\n",
            "Отправленное слово:  [1 0 1 0 0 1 1]\n",
            "Слово с ошибками: [1 1 1 0 1 1 0]\n",
            "Исправленное слово:  [0 0 1 0 1 1 0]\n",
            "Ошибка в исправлении [0 0 1 0 1 1 0]\n"
          ]
        }
      ]
    },
    {
      "cell_type": "markdown",
      "source": [
        "6.2 Написать функции кодирования и декодирования для циклического\n",
        "кода (15,9) с порождающим многочленом 𝑔(𝑥) = 1+ 𝑥3 +𝑥4 +𝑥5 +𝑥6,\n",
        "исправляющего пакеты ошибок кратности 3 и провести исследование"
      ],
      "metadata": {
        "id": "R3n4hS-Jj2_6"
      }
    },
    {
      "cell_type": "code",
      "source": [
        "a = np.array([1, 0, 0, 1, 0, 0, 0, 1, 1])\n",
        "g = np.array([1, 0, 0, 1, 1, 1, 1])\n",
        "\n",
        "print(\"Порождающий полином:\", g)\n",
        "print(\"Входное слово:\", a)\n",
        "\n",
        "\n",
        "check(a, g, 1)\n",
        "check(a, g, 2)\n",
        "check(a, g, 3)\n",
        "check(a, g, 4)"
      ],
      "metadata": {
        "colab": {
          "base_uri": "https://localhost:8080/"
        },
        "id": "0y0Ni8dfhKCM",
        "outputId": "49389ec3-ae7d-40bf-81f0-c82ed79304ec"
      },
      "execution_count": 41,
      "outputs": [
        {
          "output_type": "stream",
          "name": "stdout",
          "text": [
            "Порождающий полином: [1 0 0 1 1 1 1]\n",
            "Входное слово: [1 0 0 1 0 0 0 1 1]\n",
            "1. Исправление для однократной ошибки\n",
            "Отправленное слово:  [1 0 0 0 1 1 0 0 0 1 1 0 0 0 1]\n",
            "Слово с ошибками: [0 0 0 0 1 1 0 0 0 1 1 0 0 0 1]\n",
            "Исправленное слово:  [1 0 0 0 1 1 0 0 0 1 1 0 0 0 1]\n",
            "Успешно:  [1 0 0 0 1 1 0 0 0 1 1 0 0 0 1]\n",
            "2. Исправление для двухкратной ошибки\n",
            "Отправленное слово:  [1 0 0 0 1 1 0 0 0 1 1 0 0 0 1]\n",
            "Слово с ошибками: [1 0 0 0 1 1 0 0 0 1 1 0 0 1 0]\n",
            "Исправленное слово:  [1 0 0 0 1 1 0 0 0 1 1 0 0 0 1]\n",
            "Успешно:  [1 0 0 0 1 1 0 0 0 1 1 0 0 0 1]\n",
            "3. Исправление для трехкратной ошибки\n",
            "Отправленное слово:  [1 0 0 0 1 1 0 0 0 1 1 0 0 0 1]\n",
            "Слово с ошибками: [1 0 0 0 1 1 0 0 1 1 1 0 1 1 1]\n",
            "Исправленное слово:  [0 1 1 0 1 1 0 0 1 1 1 0 1 1 1]\n",
            "Ошибка в исправлении [0 1 1 0 1 1 0 0 1 1 1 0 1 1 1]\n",
            "4. Исправление для четырехкратной ошибки\n",
            "Отправленное слово:  [1 0 0 0 1 1 0 0 0 1 1 0 0 0 1]\n",
            "Слово с ошибками: [1 0 1 0 1 1 0 0 1 0 0 0 0 0 1]\n",
            "Исправленное слово:  [1 0 1 0 1 1 0 0 1 0 0 0 0 1 1]\n",
            "Ошибка в исправлении [1 0 1 0 1 1 0 0 1 0 0 0 0 1 1]\n"
          ]
        }
      ]
    }
  ],
  "metadata": {
    "colab": {
      "provenance": []
    },
    "kernelspec": {
      "display_name": "Python 3",
      "name": "python3"
    },
    "language_info": {
      "name": "python"
    }
  },
  "nbformat": 4,
  "nbformat_minor": 0
}