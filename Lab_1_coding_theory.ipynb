{
  "cells": [
    {
      "cell_type": "code",
      "execution_count": null,
      "metadata": {
        "id": "pE-jQJlVrayX"
      },
      "outputs": [],
      "source": [
        "import numpy as np\n",
        "import itertools"
      ]
    },
    {
      "cell_type": "markdown",
      "metadata": {
        "id": "yrG-Hae_rYJ1"
      },
      "source": [
        "1.1. Реализовать функцию REF(), приводящую матрицу к\n",
        "ступенчатому виду."
      ]
    },
    {
      "cell_type": "code",
      "execution_count": null,
      "metadata": {
        "id": "J5PPG_CQ18FC"
      },
      "outputs": [],
      "source": [
        "matrix_origin_1 = np.array([[1, 1, 1, 0, 1],\n",
        "                   [1, 0, 1, 1, 0],\n",
        "                   [0, 1, 0, 1, 1],\n",
        "                   [1, 1, 0, 1, 0]])"
      ]
    },
    {
      "cell_type": "code",
      "execution_count": null,
      "metadata": {
        "id": "_4QK-500Lrwt"
      },
      "outputs": [],
      "source": [
        "matrix_origin_2 = np.array([[0, 0, 0, 0],\n",
        "                            [1, 1, 1, 0],\n",
        "                            [0, 1, 1, 1],\n",
        "                            [1, 0, 0, 1]])"
      ]
    },
    {
      "cell_type": "code",
      "execution_count": null,
      "metadata": {
        "colab": {
          "base_uri": "https://localhost:8080/"
        },
        "id": "REOh6Z90rzsl",
        "outputId": "f930b8e6-798a-43a4-f59c-ec69aea397b0"
      },
      "outputs": [
        {
          "output_type": "stream",
          "name": "stdout",
          "text": [
            "[[1 1 1 0 1]\n",
            " [0 1 0 1 1]\n",
            " [0 0 1 1 1]\n",
            " [0 0 0 0 0]]\n"
          ]
        }
      ],
      "source": [
        "def ref(matrix):\n",
        "  notZero = []\n",
        "  for j in range(matrix.shape[1]):\n",
        "    if 1 in matrix[:, j]:\n",
        "      notZero = np.where(matrix[:, j] == 1)\n",
        "      matrix[[0,notZero[0][0]]] = matrix[[notZero[0][0], 0]]\n",
        "      for k in range(1, notZero[0].size):\n",
        "        matrix[notZero[0][k], :] += matrix[0, :]\n",
        "        matrix[notZero[0][k], :] = matrix[notZero[0][k], :] % 2\n",
        "      break\n",
        "\n",
        "  if matrix.shape[0] == 1:\n",
        "    return\n",
        "  ref(matrix[1:, :])\n",
        "  return\n",
        "\n",
        "matrix_triangle = matrix_origin_1.copy()\n",
        "ref(matrix_triangle)\n",
        "print(matrix_triangle)"
      ]
    },
    {
      "cell_type": "markdown",
      "metadata": {
        "id": "a7o0iQkdP4eY"
      },
      "source": [
        "1.2. Реализовать функцию RREF(), приводящую матрицу к\n",
        "приведённому ступенчатому виду."
      ]
    },
    {
      "cell_type": "code",
      "execution_count": null,
      "metadata": {
        "colab": {
          "base_uri": "https://localhost:8080/"
        },
        "id": "clr9m1DdP3_p",
        "outputId": "2e57a9e6-da51-4ac1-ddf3-46d5f9cdccb7"
      },
      "outputs": [
        {
          "output_type": "stream",
          "name": "stdout",
          "text": [
            "[[1 0 0 0 1]\n",
            " [0 1 0 1 1]\n",
            " [0 0 1 1 1]\n",
            " [0 0 0 0 0]]\n"
          ]
        }
      ],
      "source": [
        "def rref(matrix):\n",
        "  ref(matrix)\n",
        "  j_lead = 0\n",
        "  for i in range(1, matrix.shape[0]):\n",
        "    notZero = np.where(matrix[i, :] == 1)\n",
        "    if notZero[0].size ==0 :\n",
        "      return matrix\n",
        "    j_lead = notZero[0][0]\n",
        "    for k in range(0,i):\n",
        "      if matrix[k,j_lead]:\n",
        "        matrix[k,:] += matrix[i,:]\n",
        "        matrix[k,:] = matrix[k,:]%2\n",
        "  return matrix\n",
        "\n",
        "\n",
        "matrix_triangle_rref = matrix_origin_1.copy()\n",
        "rref(matrix_triangle_rref)\n",
        "print(matrix_triangle_rref)"
      ]
    },
    {
      "cell_type": "markdown",
      "metadata": {
        "id": "yyOIwjOyCURT"
      },
      "source": [
        "1.3.1 На основе входной матрицы сформировать порождающую\n",
        "матрицу в ступенчатом виде."
      ]
    },
    {
      "cell_type": "code",
      "execution_count": null,
      "metadata": {
        "id": "llVbSQEBCZBE"
      },
      "outputs": [],
      "source": [
        "class LinearCode:  # класс линейных кодов\n",
        "\n",
        "  def __init__(self, matrix):\n",
        "    self.matrix = matrix\n",
        "    self.lead = []\n",
        "    self.H = []\n",
        "\n",
        "  def ref(self,matrix):\n",
        "    notZero = []\n",
        "    for j in range(matrix.shape[1]):\n",
        "      if 1 in matrix[:, j]:\n",
        "        notZero = np.where(matrix[:, j] == 1)\n",
        "        matrix[[0,notZero[0][0]]] = matrix[[notZero[0][0], 0]]\n",
        "        for k in range(1, notZero[0].size):\n",
        "          matrix[notZero[0][k], :] += matrix[0, :]\n",
        "          matrix[notZero[0][k], :] = matrix[notZero[0][k], :] % 2\n",
        "        break\n",
        "    if matrix.shape[0] == 1:\n",
        "      return\n",
        "    self.ref(matrix[1:, :])\n",
        "    return\n",
        "\n",
        "  def rref(self):\n",
        "    self.ref(self.matrix)\n",
        "    j_lead = 0\n",
        "    for i in range(1, self.matrix.shape[0]):\n",
        "      notZero = np.where(self.matrix[i, :] == 1)\n",
        "      if notZero[0].size ==0 :\n",
        "        return self.matrix\n",
        "      j_lead = notZero[0][0]\n",
        "      for k in range(0,i):\n",
        "        if self.matrix[k,j_lead]:\n",
        "          self.matrix[k,:] += self.matrix[i,:]\n",
        "          self.matrix[k,:] = self.matrix[k,:]%2\n",
        "    return self.matrix\n",
        "\n",
        "  def delete_null_rows(self):  # удаляем нулевые строки\n",
        "    for i in range(0,self.matrix.shape[0]):\n",
        "      if 1 not in self.matrix[i,:]:\n",
        "        self.matrix = np.delete(self.matrix,i,axis=0)\n",
        "    return self.matrix\n",
        "\n",
        "  def count_k_n(self):  # задаем  n - число столбцов, k - число строк\n",
        "    return(self.matrix.shape[1],self.matrix.shape[0])\n",
        "\n",
        "  def search_lead(self):  # фиксируем ведубщие столбцы\n",
        "    lead = []\n",
        "    for i in range(0, self.matrix.shape[0]):\n",
        "      notZero = np.where(self.matrix[i, :] == 1)\n",
        "      if notZero[0].size ==0 :\n",
        "        self.lead = lead\n",
        "        return lead\n",
        "      else:\n",
        "        lead.append(notZero[0][0])\n",
        "    self.lead = lead\n",
        "    return lead\n",
        "\n",
        "  def delete_lead_colums(self):  # удаляем ведющие столбцы матрицы\n",
        "    lead_colums = self.lead\n",
        "    for i in range(0,len(lead_colums)):\n",
        "      self.matrix = np.delete(self.matrix,lead_colums[i]-i,axis = 1)\n",
        "    return self.matrix\n",
        "\n",
        "\n",
        "  def checking_matrix(self):  # создаем проверочную матрицу H\n",
        "    check_matrix = []\n",
        "    temp = np.eye(self.matrix.shape[1],dtype = int)\n",
        "    k = 0\n",
        "    m = 0\n",
        "    for i in range(0, self.matrix.shape[0] + self.matrix.shape[1]):\n",
        "      if i in self.lead:\n",
        "        check_matrix.append(self.matrix[k])\n",
        "        k += 1\n",
        "      else:\n",
        "        check_matrix.append(temp[m])\n",
        "        m +=1\n",
        "    check_matrix = np.array(check_matrix)\n",
        "    self.H = check_matrix\n",
        "    return check_matrix\n",
        "\n",
        "\n",
        "  def generate_code_words_1(self):  # формируем кодовые слова, складывая все слова из порождающего множества\n",
        "    zer = np.zeros(self.matrix.shape[1], dtype=int)\n",
        "    final_word = set()\n",
        "    final_word.add(tuple(zer.tolist()))\n",
        "    for i in range(1, self.matrix.shape[0] + 1):\n",
        "      comd_word = list(itertools.combinations(range(self.matrix.shape[0]), i))\n",
        "      for comb in comd_word:\n",
        "        word = np.zeros(self.matrix.shape[1], dtype=int)\n",
        "        for j in comb:\n",
        "          word += self.matrix[j, :]\n",
        "        word %= 2\n",
        "        final_word.add(tuple(word.tolist()))\n",
        "    return np.array(list(final_word))\n",
        "\n",
        "  def generate_code_words_2(self):  # формируем кодовые слова, беря все кодовые слова длины k и умножая на матрицу\n",
        "    n,k = self.count_k_n()\n",
        "    final_code = itertools.product(range(2), repeat=k)\n",
        "    answer = []\n",
        "    for code in (final_code):\n",
        "      one_word = np.dot(code,self.matrix)%2\n",
        "      answer.append(one_word)\n",
        "    return answer\n",
        "\n",
        "\n",
        "\n"
      ]
    },
    {
      "cell_type": "code",
      "execution_count": null,
      "metadata": {
        "colab": {
          "base_uri": "https://localhost:8080/"
        },
        "id": "pNCboKVkG_ED",
        "outputId": "271d74bf-4d25-4b47-f955-8fec1256a5bd"
      },
      "outputs": [
        {
          "output_type": "stream",
          "name": "stdout",
          "text": [
            "[[1 0 0 0 1]\n",
            " [0 1 0 1 1]\n",
            " [0 0 1 1 1]\n",
            " [0 0 0 0 0]] \n",
            "\n",
            "[[1 0 0 0 1]\n",
            " [0 1 0 1 1]\n",
            " [0 0 1 1 1]] \n",
            "\n",
            "5 3 \n",
            "\n",
            "[0, 1, 2] \n",
            "\n",
            "[[0 1]\n",
            " [1 1]\n",
            " [1 1]] \n",
            "\n",
            "[[0 1]\n",
            " [1 1]\n",
            " [1 1]\n",
            " [1 0]\n",
            " [0 1]] \n",
            "\n"
          ]
        }
      ],
      "source": [
        "# пример по созданию проверочной матрицы на основе порождающей\n",
        "matrix_example_1 = np.array([[1, 1, 1, 0, 1],\n",
        "              [1, 0, 1, 1, 0],\n",
        "              [0, 1, 0, 1, 1],\n",
        "              [1, 1, 0, 1, 0]])\n",
        "\n",
        "cl = LinearCode(matrix_example_1)\n",
        "\n",
        "num_one = cl.rref()\n",
        "print(num_one,'\\n')\n",
        "\n",
        "num_one = cl.delete_null_rows()\n",
        "print(num_one,'\\n')\n",
        "\n",
        "n,k = cl.count_k_n()\n",
        "print(n,k,'\\n')\n",
        "\n",
        "lead = cl.search_lead()\n",
        "print(lead,'\\n')\n",
        "\n",
        "new_matrix = cl.delete_lead_colums()\n",
        "print(new_matrix,'\\n')\n",
        "\n",
        "final_matrix = cl.checking_matrix()\n",
        "print(np.array(final_matrix),'\\n')"
      ]
    },
    {
      "cell_type": "code",
      "execution_count": null,
      "metadata": {
        "colab": {
          "base_uri": "https://localhost:8080/"
        },
        "id": "0_CoiHU1IC_t",
        "outputId": "22663638-e610-4f8d-e493-713d308678a1"
      },
      "outputs": [
        {
          "output_type": "stream",
          "name": "stdout",
          "text": [
            "11 5\n",
            "[[0 1 1 1 1 0]\n",
            " [1 0 0 0 0 0]\n",
            " [0 1 0 0 0 0]\n",
            " [0 0 1 0 1 1]\n",
            " [0 0 0 1 0 1]\n",
            " [0 0 1 0 0 0]\n",
            " [0 0 0 0 1 0]\n",
            " [0 0 0 1 0 0]\n",
            " [0 0 0 0 1 1]\n",
            " [0 0 0 0 1 0]\n",
            " [0 0 0 0 0 1]] \n",
            "\n"
          ]
        }
      ],
      "source": [
        "# 2 пример\n",
        "matrix_example_2 = np.array(\n",
        "    [[1, 0, 1, 1, 0, 0, 0, 1, 0, 0, 1],\n",
        "     [0, 0, 0, 1, 1, 1, 0, 1, 0, 1, 0],\n",
        "     [0, 0, 0, 0, 1, 0, 0, 1, 0, 0, 1],\n",
        "     [0, 0, 0, 0, 0, 0, 1, 0, 0, 1, 0],\n",
        "     [0, 0, 0, 0, 0, 0, 0, 0, 1, 1, 1]])\n",
        "\n",
        "cl_2 = LinearCode(matrix_example_2)\n",
        "\n",
        "num_two = cl_2.rref()\n",
        "num_two = cl_2.delete_null_rows()\n",
        "n_2,k_2 = cl_2.count_k_n()\n",
        "print(n_2,k_2)\n",
        "lead_2 = cl_2.search_lead()\n",
        "new_matrix_2 = cl_2.delete_lead_colums()\n",
        "\n",
        "final_matrix_2 = cl_2.checking_matrix()\n",
        "print(final_matrix_2,'\\n')\n"
      ]
    },
    {
      "cell_type": "markdown",
      "source": [
        "1.4. Сформировать все кодовые слова длины n двумя способами.\n",
        "\n",
        "1.4.1 Сложить все слова из порождающего множества, оставить\n",
        "неповторяющиеся.\n",
        "\n",
        "1.4.2 Взять все двоичные слова длины k, умножить каждое на G"
      ],
      "metadata": {
        "id": "fd4t6_9sODxl"
      }
    },
    {
      "cell_type": "code",
      "source": [
        "matrix_G = np.array(\n",
        "    [[1, 0, 1, 1, 0, 0, 0, 1, 0, 0, 1],\n",
        "     [0, 0, 0, 1, 1, 1, 0, 1, 0, 1, 0],\n",
        "     [0, 0, 0, 0, 1, 0, 0, 1, 0, 0, 1],\n",
        "     [0, 0, 0, 0, 0, 0, 1, 0, 0, 1, 0],\n",
        "     [0, 0, 0, 0, 0, 0, 0, 0, 1, 1, 1]])\n",
        "\n",
        "matrix_H = np.array(\n",
        "    [[0, 1, 1, 1, 1, 0],\n",
        "     [1, 0, 0, 0, 0, 0],\n",
        "     [0, 1, 0, 0, 0, 0],\n",
        "     [0, 0, 1, 0, 1, 1],\n",
        "     [0, 0, 0, 1, 0, 1],\n",
        "     [0, 0, 1, 0, 0, 0],\n",
        "     [0, 0, 0, 0, 1, 0],\n",
        "     [0, 0, 0, 1, 0, 0],\n",
        "     [0, 0, 0, 0, 1, 1],\n",
        "     [0, 0, 0, 0, 1, 0],\n",
        "     [0, 0, 0, 0, 0, 1]] )\n",
        "\n",
        "cl_3 = LinearCode(matrix_G)\n",
        "\n",
        "code_word_1 = np.array(cl_3.generate_code_words_1()) #1 способ формирования кодовых слов\n",
        "print(code_word_1,'\\n')\n",
        "\n",
        "set_code_word_1 = set()\n",
        "for word in (code_word_1):\n",
        "  set_code_word_1.add(tuple(word.tolist()))\n",
        "\n",
        "\n",
        "code_word_2 = np.array(cl_3.generate_code_words_2())#2 способ формирования кодовых слов\n",
        "print(code_word_2,'\\n')\n",
        "\n",
        "set_code_word_2 = set()\n",
        "for word in (code_word_2):\n",
        "  set_code_word_2.add(tuple(word.tolist()))\n",
        "\n",
        "print(set_code_word_1 == set_code_word_2) #проверяем, равны ли эти множества кодовых\n",
        "\n",
        "\n",
        "check_zero_matr = []  # проверка на умножение\n",
        "for code in (code_word_2):\n",
        "  one_word = np.dot(code,matrix_H)%2\n",
        "  check_zero_matr.append(one_word)\n",
        "print(np.array(check_zero_matr))"
      ],
      "metadata": {
        "colab": {
          "base_uri": "https://localhost:8080/"
        },
        "id": "hryo-eH8ONGh",
        "outputId": "b38bf927-a2e0-4f58-bb0e-e72c309aafba"
      },
      "execution_count": null,
      "outputs": [
        {
          "output_type": "stream",
          "name": "stdout",
          "text": [
            "[[0 0 0 0 0 0 1 0 0 1 0]\n",
            " [0 0 0 1 1 1 1 1 1 1 1]\n",
            " [1 0 1 0 1 1 0 0 1 0 0]\n",
            " [0 0 0 0 0 0 1 0 1 0 1]\n",
            " [1 0 1 1 1 0 1 0 0 1 0]\n",
            " [1 0 1 1 0 0 1 1 1 0 0]\n",
            " [0 0 0 0 1 0 0 1 1 1 0]\n",
            " [0 0 0 1 1 1 1 1 0 0 0]\n",
            " [0 0 0 1 1 1 0 1 0 1 0]\n",
            " [0 0 0 0 1 0 1 1 1 0 0]\n",
            " [1 0 1 1 0 0 1 1 0 1 1]\n",
            " [0 0 0 1 1 1 0 1 1 0 1]\n",
            " [1 0 1 0 0 1 1 1 0 0 0]\n",
            " [1 0 1 0 0 1 1 1 1 1 1]\n",
            " [0 0 0 1 0 1 0 0 1 0 0]\n",
            " [0 0 0 0 1 0 1 1 0 1 1]\n",
            " [0 0 0 0 1 0 0 1 0 0 1]\n",
            " [1 0 1 0 1 1 0 0 0 1 1]\n",
            " [1 0 1 0 0 1 0 1 0 1 0]\n",
            " [0 0 0 0 0 0 0 0 0 0 0]\n",
            " [1 0 1 1 1 0 0 0 1 1 1]\n",
            " [1 0 1 1 1 0 0 0 0 0 0]\n",
            " [1 0 1 1 1 0 1 0 1 0 1]\n",
            " [0 0 0 1 0 1 1 0 0 0 1]\n",
            " [1 0 1 0 1 1 1 0 1 1 0]\n",
            " [1 0 1 1 0 0 0 1 1 1 0]\n",
            " [1 0 1 0 1 1 1 0 0 0 1]\n",
            " [0 0 0 1 0 1 1 0 1 1 0]\n",
            " [1 0 1 0 0 1 0 1 1 0 1]\n",
            " [0 0 0 0 0 0 0 0 1 1 1]\n",
            " [1 0 1 1 0 0 0 1 0 0 1]\n",
            " [0 0 0 1 0 1 0 0 0 1 1]] \n",
            "\n",
            "[[0 0 0 0 0 0 0 0 0 0 0]\n",
            " [0 0 0 0 0 0 0 0 1 1 1]\n",
            " [0 0 0 0 0 0 1 0 0 1 0]\n",
            " [0 0 0 0 0 0 1 0 1 0 1]\n",
            " [0 0 0 0 1 0 0 1 0 0 1]\n",
            " [0 0 0 0 1 0 0 1 1 1 0]\n",
            " [0 0 0 0 1 0 1 1 0 1 1]\n",
            " [0 0 0 0 1 0 1 1 1 0 0]\n",
            " [0 0 0 1 1 1 0 1 0 1 0]\n",
            " [0 0 0 1 1 1 0 1 1 0 1]\n",
            " [0 0 0 1 1 1 1 1 0 0 0]\n",
            " [0 0 0 1 1 1 1 1 1 1 1]\n",
            " [0 0 0 1 0 1 0 0 0 1 1]\n",
            " [0 0 0 1 0 1 0 0 1 0 0]\n",
            " [0 0 0 1 0 1 1 0 0 0 1]\n",
            " [0 0 0 1 0 1 1 0 1 1 0]\n",
            " [1 0 1 1 0 0 0 1 0 0 1]\n",
            " [1 0 1 1 0 0 0 1 1 1 0]\n",
            " [1 0 1 1 0 0 1 1 0 1 1]\n",
            " [1 0 1 1 0 0 1 1 1 0 0]\n",
            " [1 0 1 1 1 0 0 0 0 0 0]\n",
            " [1 0 1 1 1 0 0 0 1 1 1]\n",
            " [1 0 1 1 1 0 1 0 0 1 0]\n",
            " [1 0 1 1 1 0 1 0 1 0 1]\n",
            " [1 0 1 0 1 1 0 0 0 1 1]\n",
            " [1 0 1 0 1 1 0 0 1 0 0]\n",
            " [1 0 1 0 1 1 1 0 0 0 1]\n",
            " [1 0 1 0 1 1 1 0 1 1 0]\n",
            " [1 0 1 0 0 1 0 1 0 1 0]\n",
            " [1 0 1 0 0 1 0 1 1 0 1]\n",
            " [1 0 1 0 0 1 1 1 0 0 0]\n",
            " [1 0 1 0 0 1 1 1 1 1 1]] \n",
            "\n",
            "True\n",
            "[[0 0 0 0 0 0]\n",
            " [0 0 0 0 0 0]\n",
            " [0 0 0 0 0 0]\n",
            " [0 0 0 0 0 0]\n",
            " [0 0 0 0 0 0]\n",
            " [0 0 0 0 0 0]\n",
            " [0 0 0 0 0 0]\n",
            " [0 0 0 0 0 0]\n",
            " [0 0 0 0 0 0]\n",
            " [0 0 0 0 0 0]\n",
            " [0 0 0 0 0 0]\n",
            " [0 0 0 0 0 0]\n",
            " [0 0 0 0 0 0]\n",
            " [0 0 0 0 0 0]\n",
            " [0 0 0 0 0 0]\n",
            " [0 0 0 0 0 0]\n",
            " [0 0 0 0 0 0]\n",
            " [0 0 0 0 0 0]\n",
            " [0 0 0 0 0 0]\n",
            " [0 0 0 0 0 0]\n",
            " [0 0 0 0 0 0]\n",
            " [0 0 0 0 0 0]\n",
            " [0 0 0 0 0 0]\n",
            " [0 0 0 0 0 0]\n",
            " [0 0 0 0 0 0]\n",
            " [0 0 0 0 0 0]\n",
            " [0 0 0 0 0 0]\n",
            " [0 0 0 0 0 0]\n",
            " [0 0 0 0 0 0]\n",
            " [0 0 0 0 0 0]\n",
            " [0 0 0 0 0 0]\n",
            " [0 0 0 0 0 0]]\n"
          ]
        }
      ]
    },
    {
      "cell_type": "markdown",
      "source": [
        "1.4 Вычислить кодовое расстояние получившегося кода.\n",
        "\n",
        "Сделать вывод о кратности обнаруживаемой ошибки t."
      ],
      "metadata": {
        "id": "ob6fkIKjSlP_"
      }
    },
    {
      "cell_type": "code",
      "source": [
        "sums = np.sum(matrix_G, axis=1)\n",
        "d = sums[np.argmin(sums)]\n",
        "t = d - 1\n",
        "\n",
        "print(\"Result:\")\n",
        "print(\"d = \", d)\n",
        "print(\"t = \", t)"
      ],
      "metadata": {
        "id": "ax4Is-5xSohG",
        "colab": {
          "base_uri": "https://localhost:8080/"
        },
        "outputId": "1f930cdd-ffbb-4ff8-d448-d0d6e00580af"
      },
      "execution_count": null,
      "outputs": [
        {
          "output_type": "stream",
          "name": "stdout",
          "text": [
            "Result:\n",
            "d =  2\n",
            "t =  1\n"
          ]
        }
      ]
    },
    {
      "cell_type": "markdown",
      "source": [
        "1.4.1 Внести в кодовое слово ошибку кратности не более t, умножить\n",
        "полученное слово на H, убедиться в обнаружении ошибки."
      ],
      "metadata": {
        "id": "DYz33XVqhZvY"
      }
    },
    {
      "cell_type": "code",
      "source": [
        "v = np.array([1, 0, 1, 1, 1, 0, 1, 0, 0, 1, 0])\n",
        "e1 = np.array([0, 0, 1, 0, 0, 0, 0, 0, 0, 0, 0])\n",
        "s = (v + e1)%2\n",
        "print('v + e1 = ',s)\n",
        "\n",
        "s2 = np.dot(s,matrix_H)%2\n",
        "print('(v + e1)@H = ',s2,' - error')"
      ],
      "metadata": {
        "colab": {
          "base_uri": "https://localhost:8080/"
        },
        "id": "OrtheYpFhfpz",
        "outputId": "75cd96d6-8535-45d0-e032-f9b6ef61481e"
      },
      "execution_count": null,
      "outputs": [
        {
          "output_type": "stream",
          "name": "stdout",
          "text": [
            "v + e1 =  [1 0 0 1 1 0 1 0 0 1 0]\n",
            "(v + e1)@H =  [0 1 0 0 0 0]  - error\n"
          ]
        }
      ]
    },
    {
      "cell_type": "markdown",
      "source": [
        "1.4.2 Найти для некоторого кодового слова ошибку кратности t+1\n",
        "такую, что при умножении на H ошибка не может быть обнаружена."
      ],
      "metadata": {
        "id": "iTzxJTREjHTI"
      }
    },
    {
      "cell_type": "code",
      "source": [
        "is_find = 0\n",
        "print(v)\n",
        "for i in range(len(v)):\n",
        "  if is_find:\n",
        "    break\n",
        "  for j in range(len(v)):\n",
        "    if i != j:\n",
        "      e2 = np.zeros(len(v), dtype=int)\n",
        "      e2[i], e2[j] = 1, 1\n",
        "\n",
        "      s = (v + e2) % 2\n",
        "      s2 = np.dot(s, matrix_H)%2\n",
        "      if sum(s2) == 0:\n",
        "        is_find = 1\n",
        "        break\n",
        "\n",
        "print('e2', e2)\n",
        "print('v + e2 = ', s)\n",
        "print('(v + e2)@H = ', s2,' - no error')"
      ],
      "metadata": {
        "colab": {
          "base_uri": "https://localhost:8080/"
        },
        "id": "3XbqttbDjIBA",
        "outputId": "1e2ba5cb-0c09-439e-fe0d-44607acbb242"
      },
      "execution_count": null,
      "outputs": [
        {
          "output_type": "stream",
          "name": "stdout",
          "text": [
            "[1 0 1 1 1 0 1 0 0 1 0]\n",
            "e2 [0 0 0 0 0 0 1 0 0 1 0]\n",
            "v + e2 =  [1 0 1 1 1 0 0 0 0 0 0]\n",
            "(v + e2)@H =  [0 0 0 0 0 0]  - no error\n"
          ]
        }
      ]
    }
  ],
  "metadata": {
    "colab": {
      "provenance": []
    },
    "kernelspec": {
      "display_name": "Python 3",
      "name": "python3"
    },
    "language_info": {
      "name": "python"
    }
  },
  "nbformat": 4,
  "nbformat_minor": 0
}