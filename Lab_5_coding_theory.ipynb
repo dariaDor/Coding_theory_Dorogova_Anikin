{
  "cells": [
    {
      "cell_type": "code",
      "execution_count": 237,
      "metadata": {
        "id": "pE-jQJlVrayX"
      },
      "outputs": [],
      "source": [
        "import numpy as np\n",
        "import itertools\n",
        "import random\n",
        "import math\n",
        "import itertools as it\n",
        "from itertools import product, combinations"
      ]
    },
    {
      "cell_type": "markdown",
      "source": [
        "Написать функцию формирования порождающей матрицы кода Рида\n",
        "Маллера (r,m) в каноническом виде для произвольно заданных r и m."
      ],
      "metadata": {
        "id": "vlCDyELjI1CF"
      }
    },
    {
      "cell_type": "code",
      "source": [
        "# Формируем матрицу размерности m столбцов\n",
        "def basis_matrix(columns):\n",
        "    return list(product([0, 1], repeat=columns))\n",
        "\n",
        "# создаем вектор на основе индексов и количества столбцов\n",
        "def create_vector(index_set, total_columns):\n",
        "    if len(index_set) == 0:\n",
        "        return np.ones(2 ** total_columns, dtype=int)\n",
        "\n",
        "    vec = []\n",
        "    basis = basis_matrix(total_columns)\n",
        "    for pattern in basis:\n",
        "        result = 1\n",
        "        for idx in index_set:\n",
        "            result *= (pattern[idx] + 1) % 2\n",
        "        vec.append(result)\n",
        "\n",
        "    return vec\n",
        "\n",
        "# генерируем комбинации\n",
        "def generate_combinations(total, limit):\n",
        "    indices = np.arange(total)\n",
        "    result_sets = []\n",
        "    for size in range(len(indices) + 1):\n",
        "        for combo in combinations(indices, size):\n",
        "            if len(combo) <= limit:\n",
        "                result_sets.append(combo)\n",
        "\n",
        "    return result_sets\n",
        "\n"
      ],
      "metadata": {
        "id": "Fwr_gLnLI2J5"
      },
      "execution_count": 238,
      "outputs": []
    },
    {
      "cell_type": "code",
      "source": [
        "\n",
        "def matrix_R_M(row_limit, total_cols):\n",
        "    size = 0\n",
        "    for i in range(r + 1):\n",
        "        size += math.comb(m, i)\n",
        "    matrix = np.zeros((size, pow(2, m)), dtype=int)\n",
        "    index = 0\n",
        "    for i in generate_combinations(m, r):\n",
        "        matrix[index] = create_vector(i, m)\n",
        "        index += 1\n",
        "    return matrix\n",
        "\n",
        "\n",
        "r,m = 2,4\n",
        "G = matrix_R_M(r,m)\n",
        "print(G)"
      ],
      "metadata": {
        "colab": {
          "base_uri": "https://localhost:8080/"
        },
        "id": "DGYuiqC6hFZM",
        "outputId": "48a84289-bb1e-4c22-aa53-929a313fa2aa"
      },
      "execution_count": 239,
      "outputs": [
        {
          "output_type": "stream",
          "name": "stdout",
          "text": [
            "[[1 1 1 1 1 1 1 1 1 1 1 1 1 1 1 1]\n",
            " [1 1 1 1 1 1 1 1 0 0 0 0 0 0 0 0]\n",
            " [1 1 1 1 0 0 0 0 1 1 1 1 0 0 0 0]\n",
            " [1 1 0 0 1 1 0 0 1 1 0 0 1 1 0 0]\n",
            " [1 0 1 0 1 0 1 0 1 0 1 0 1 0 1 0]\n",
            " [1 1 1 1 0 0 0 0 0 0 0 0 0 0 0 0]\n",
            " [1 1 0 0 1 1 0 0 0 0 0 0 0 0 0 0]\n",
            " [1 0 1 0 1 0 1 0 0 0 0 0 0 0 0 0]\n",
            " [1 1 0 0 0 0 0 0 1 1 0 0 0 0 0 0]\n",
            " [1 0 1 0 0 0 0 0 1 0 1 0 0 0 0 0]\n",
            " [1 0 0 0 1 0 0 0 1 0 0 0 1 0 0 0]]\n"
          ]
        }
      ]
    },
    {
      "cell_type": "markdown",
      "source": [
        "Реализовать алгоритм мажоритарного декодирования для кода Рида\n",
        "Маллера"
      ],
      "metadata": {
        "id": "Sr_5E89ajpke"
      }
    },
    {
      "cell_type": "code",
      "source": [
        "#генерируем и сортируем все комбинаци r элементов из m\n",
        "def sort_for_major(m, r):\n",
        "    iterable = np.arange(m, dtype=int)\n",
        "    temp = list(combinations(iterable, r))\n",
        "    if temp:\n",
        "        temp.sort()\n",
        "    result = np.zeros((math.comb(m, r), r), dtype=int)\n",
        "    for i in range(len(temp)):\n",
        "        result[i] = temp[i]\n",
        "    return result\n",
        "\n",
        "#дополнение множества\n",
        "def compl(I, m):\n",
        "    return [i for i in range(m) if i not in I]\n",
        "\n",
        "#нахождение строк базиса\n",
        "def get_H_I(I, m):\n",
        "\n",
        "    H_I = []\n",
        "    for words in basis_matrix(m):\n",
        "        f = 1\n",
        "        for j in I:\n",
        "            f *= (words[j] + 1) % 2\n",
        "        if f == 1:\n",
        "            H_I.append(words)\n",
        "    return H_I\n",
        "\n",
        "#создает вектор на основе заданногомножества индексов и значений\n",
        "def create_vector_t(I, m, t):\n",
        "    if len(I) == 0:\n",
        "        return np.ones(2 ** m, int)\n",
        "    else:\n",
        "        v = []\n",
        "        for words in basis_matrix(m):\n",
        "            f = 1\n",
        "            for j in I:\n",
        "                f *= (words[j] + t[j] + 1) % 2\n",
        "            v.append(f)\n",
        "        return v\n",
        "\n",
        "\n"
      ],
      "metadata": {
        "id": "dTF7zUX1js78"
      },
      "execution_count": 240,
      "outputs": []
    },
    {
      "cell_type": "code",
      "source": [
        "def major(w, r, m, size):\n",
        "    i = r\n",
        "    w_r = w.copy()\n",
        "    Mi = np.zeros(size, dtype=int)\n",
        "    max_weight = 2 ** (m - r - 1) - 1\n",
        "    index = 0\n",
        "\n",
        "    while True:\n",
        "        combination_found = False\n",
        "\n",
        "        for J in sort_for_major(m, i):\n",
        "            zero_count, one_count = 0, 0\n",
        "\n",
        "            for t in get_H_I(J, m):\n",
        "                komp = compl(J, m)\n",
        "                V = create_vector_t(komp, m, t)\n",
        "                c = np.dot(w_r, V) % 2\n",
        "\n",
        "                if c == 0:\n",
        "                    zero_count += 1\n",
        "                elif c == 1:\n",
        "                    one_count += 1\n",
        "\n",
        "            if zero_count > max_weight and one_count > max_weight:\n",
        "                return\n",
        "\n",
        "            if zero_count > pow(2, m - i - 1):\n",
        "                Mi[index] = 0\n",
        "                index += 1\n",
        "                combination_found = True\n",
        "\n",
        "            if one_count > pow(2, m - i - 1):\n",
        "                Mi[index] = 1\n",
        "                index += 1\n",
        "                w_r = (w_r + create_vector(J, m)) % 2\n",
        "                combination_found = True\n",
        "\n",
        "        if not combination_found:\n",
        "            break\n",
        "\n",
        "        if i > 0:\n",
        "            if len(w_r) < max_weight:\n",
        "                Mi[index:index + len(sort_for_major(m, r + 1))] = 0\n",
        "                index += len(sort_for_major(m, r + 1))\n",
        "                break\n",
        "            i -= 1\n",
        "        else:\n",
        "            break\n",
        "    reversed(Mi)\n",
        "    return Mi\n",
        "\n"
      ],
      "metadata": {
        "id": "CaY8uYEOksMl"
      },
      "execution_count": 241,
      "outputs": []
    },
    {
      "cell_type": "code",
      "source": [
        "def generate_word(u, G, error_count):\n",
        "    v = np.dot(u,G)%2\n",
        "    print (\"u: \", u)\n",
        "    print(\"v: \", v)\n",
        "\n",
        "    #Внести ошибку в сформированное слово\n",
        "    i_f = np.random.choice(len(u), size=error_count, replace=False)\n",
        "    for index in (i_f):\n",
        "        v[index] = (v[index]+1)%2\n",
        "    print(\"Полученное кодовое слово с ошибкой: \", v)\n",
        "\n",
        "\n",
        "    return v"
      ],
      "metadata": {
        "id": "BA9UjKKilKN5"
      },
      "execution_count": 242,
      "outputs": []
    },
    {
      "cell_type": "markdown",
      "source": [
        "Провести экспериментальную проверку алгоритма декодирования для\n",
        "кода Рида-Маллера (2,4)"
      ],
      "metadata": {
        "id": "_NJw7gnRte-m"
      }
    },
    {
      "cell_type": "code",
      "source": [
        "def check(u,g,count_mistake):\n",
        "\n",
        "  match count_mistake:\n",
        "    case 1:\n",
        "      Err = generate_word(u,G, 1)\n",
        "      print(\"Слово с однократной ошибкой:\", Err)\n",
        "    case 2:\n",
        "      Err = generate_word(u,G, 2)\n",
        "      print(\"Слово с двукратной ошибкой:\", Err)\n",
        "  Decoded_word = major(Err, 2, 4, len(G))\n",
        "  if Decoded_word is None:\n",
        "      print(\"Необходима повторная отправка сообщения\\n\")\n",
        "  else:\n",
        "      print(\"Исправленное слово:\", Decoded_word)\n",
        "      V2 = Decoded_word.dot(G) % 2\n",
        "      print(\"Проверка:\", V2)"
      ],
      "metadata": {
        "id": "HZdBvjL40Ono"
      },
      "execution_count": 243,
      "outputs": []
    },
    {
      "cell_type": "code",
      "source": [
        "# Проверка однократной ошибки\n",
        "u = np.array([1, 0, 0, 0, 1, 1, 0, 0, 0, 1, 1])\n",
        "check(u,G,1)"
      ],
      "metadata": {
        "colab": {
          "base_uri": "https://localhost:8080/"
        },
        "id": "7ASEuHLZtg0v",
        "outputId": "f9393111-5c59-4d93-99c8-8e808806e819"
      },
      "execution_count": 244,
      "outputs": [
        {
          "output_type": "stream",
          "name": "stdout",
          "text": [
            "u:  [1 0 0 0 1 1 0 0 0 1 1]\n",
            "v:  [1 0 0 0 1 1 0 1 0 1 1 1 1 1 0 1]\n",
            "Полученное кодовое слово с ошибкой:  [1 0 0 0 1 1 0 1 1 1 1 1 1 1 0 1]\n",
            "Слово с однократной ошибкой: [1 0 0 0 1 1 0 1 1 1 1 1 1 1 0 1]\n",
            "Исправленное слово: [1 0 0 0 1 1 0 0 0 1 1]\n",
            "Проверка: [1 0 0 0 1 1 0 1 0 1 1 1 1 1 0 1]\n"
          ]
        }
      ]
    },
    {
      "cell_type": "code",
      "source": [
        "# Проверка двукратной ошибки\n",
        "u = np.array([1, 0, 0, 0, 1, 1, 0, 0, 0, 1, 1])\n",
        "check(u,G,2)"
      ],
      "metadata": {
        "colab": {
          "base_uri": "https://localhost:8080/"
        },
        "id": "ZTvrMq0Ytj4c",
        "outputId": "14742857-09ed-4b99-8184-e7748e3ce1d2",
        "collapsed": true
      },
      "execution_count": 245,
      "outputs": [
        {
          "output_type": "stream",
          "name": "stdout",
          "text": [
            "u:  [1 0 0 0 1 1 0 0 0 1 1]\n",
            "v:  [1 0 0 0 1 1 0 1 0 1 1 1 1 1 0 1]\n",
            "Полученное кодовое слово с ошибкой:  [1 1 0 0 1 1 1 1 0 1 1 1 1 1 0 1]\n",
            "Слово с двукратной ошибкой: [1 1 0 0 1 1 1 1 0 1 1 1 1 1 0 1]\n",
            "Необходима повторная отправка сообщения\n",
            "\n"
          ]
        }
      ]
    }
  ],
  "metadata": {
    "colab": {
      "provenance": []
    },
    "kernelspec": {
      "display_name": "Python 3",
      "name": "python3"
    },
    "language_info": {
      "name": "python"
    }
  },
  "nbformat": 4,
  "nbformat_minor": 0
}